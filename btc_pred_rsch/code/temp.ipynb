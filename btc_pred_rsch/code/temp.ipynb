{
 "cells": [
  {
   "cell_type": "code",
   "execution_count": 1,
   "metadata": {},
   "outputs": [],
   "source": [
    "import dask.dataframe as dd\n",
    "import gc # 가비지 컬렉터 모듈"
   ]
  },
  {
   "cell_type": "code",
   "execution_count": 2,
   "metadata": {},
   "outputs": [],
   "source": [
    "# set csv file path\n",
    "file_path = '../data/bitcoin_tick_data/'\n",
    "\n",
    "# set type of each columns\n",
    "dtype={\n",
    "       'type_websocker': 'object',\n",
    "       'datetime': 'object',\n",
    "       'code': 'object',\n",
    "       'opening_price': 'float32',\n",
    "       'high_price': 'float32',\n",
    "       'low_price': 'float32',\n",
    "       'trade_price': 'float32',\n",
    "       'prev_closing_price': 'float32',\n",
    "       'change': 'object',\n",
    "       'change_price': 'float32',\n",
    "       'signed_change_price': 'float32',\n",
    "       'change_rate': 'float32',\n",
    "       'signed_change_rate': 'float32',\n",
    "       'trade_volume': 'float32',\n",
    "       'acc_trade_volume': 'float32',\n",
    "       'acc_trade_volume_24th': 'float32',\n",
    "       'acc_trade_price': 'float32',\n",
    "       'acc_trade_price_24th': 'float32',\n",
    "       'trade_date': 'object',\n",
    "       'trade_time': 'object',\n",
    "       'trade_timestamp': 'object',\n",
    "       'ask_bid': 'object',\n",
    "       'acc_ask_volume': 'float32',\n",
    "       'acc_bid_volume': 'float32',\n",
    "       'highest_52_week_price': 'float32',\n",
    "       'highest_52_week_date': 'object',\n",
    "       'lowest_52_week_price': 'float32',\n",
    "       'lowest_52_week_date': 'object',\n",
    "       'market_state': 'object',\n",
    "       'is_trading_suspended': 'object',\n",
    "       'delisting_date': 'object',\n",
    "       'market_warning': 'object',\n",
    "       'timestamp': 'object',\n",
    "       'stream_type': 'object',\n",
    "       'sys_datetime': 'object',\n",
    "       'sequential_id': 'object',\n",
    "       'total_ask_size': 'float32',\n",
    "       'total_bid_size': 'float32',\n",
    "       \n",
    "       'orderbook_ap_0': 'float32',\n",
    "       'orderbook_ap_1': 'float32',\n",
    "       'orderbook_ap_2': 'float32',\n",
    "       'orderbook_ap_3': 'float32',\n",
    "       'orderbook_ap_4': 'float32',\n",
    "       'orderbook_ap_5': 'float32',\n",
    "       'orderbook_ap_6': 'float32',\n",
    "       'orderbook_ap_7': 'float32',\n",
    "       'orderbook_ap_8': 'float32',\n",
    "       'orderbook_ap_9': 'float32',\n",
    "       'orderbook_ap_10': 'float32',\n",
    "       'orderbook_ap_11': 'float32',\n",
    "       'orderbook_ap_12': 'float32',\n",
    "       'orderbook_ap_13': 'float32',\n",
    "       'orderbook_ap_14': 'float32',\n",
    "\n",
    "       'orderbook_as_0': 'float32',\n",
    "       'orderbook_as_1': 'float32',\n",
    "       'orderbook_as_2': 'float32',\n",
    "       'orderbook_as_3': 'float32',\n",
    "       'orderbook_as_4': 'float32',\n",
    "       'orderbook_as_5': 'float32',\n",
    "       'orderbook_as_6': 'float32',\n",
    "       'orderbook_as_7': 'float32',\n",
    "       'orderbook_as_8': 'float32',\n",
    "       'orderbook_as_9': 'float32',\n",
    "       'orderbook_as_10': 'float32',\n",
    "       'orderbook_as_11': 'float32',\n",
    "       'orderbook_as_12': 'float32',\n",
    "       'orderbook_as_13': 'float32',\n",
    "       'orderbook_as_14': 'float32',\n",
    "\n",
    "       'orderbook_bp_0': 'float32',\n",
    "       'orderbook_bp_1': 'float32',\n",
    "       'orderbook_bp_2': 'float32',\n",
    "       'orderbook_bp_3': 'float32',\n",
    "       'orderbook_bp_4': 'float32',\n",
    "       'orderbook_bp_5': 'float32',\n",
    "       'orderbook_bp_6': 'float32',\n",
    "       'orderbook_bp_7': 'float32',\n",
    "       'orderbook_bp_8': 'float32',\n",
    "       'orderbook_bp_9': 'float32',\n",
    "       'orderbook_bp_10': 'float32',\n",
    "       'orderbook_bp_11': 'float32',\n",
    "       'orderbook_bp_12': 'float32',\n",
    "       'orderbook_bp_13': 'float32',\n",
    "       'orderbook_bp_14': 'float32',\n",
    "\n",
    "       'orderbook_bs_0': 'float32',\n",
    "       'orderbook_bs_1': 'float32',\n",
    "       'orderbook_bs_2': 'float32',\n",
    "       'orderbook_bs_3': 'float32',\n",
    "       'orderbook_bs_4': 'float32',\n",
    "       'orderbook_bs_5': 'float32',\n",
    "       'orderbook_bs_6': 'float32',\n",
    "       'orderbook_bs_7': 'float32',\n",
    "       'orderbook_bs_8': 'float32',\n",
    "       'orderbook_bs_9': 'float32',\n",
    "       'orderbook_bs_10': 'float32',\n",
    "       'orderbook_bs_11': 'float32',\n",
    "       'orderbook_bs_12': 'float32',\n",
    "       'orderbook_bs_13': 'float32',\n",
    "       'orderbook_bs_14': 'float32',\n",
    "       }\n",
    "\n",
    "# read csv file using Dask DataFrame\n",
    "df = dd.read_csv(f'{file_path}*.part', dtype=dtype)\n",
    "#df = df.compute() # pandas df 형태로 반환. 메모리가 부족할 경우 추천하지 않음."
   ]
  },
  {
   "cell_type": "code",
   "execution_count": 3,
   "metadata": {},
   "outputs": [
    {
     "data": {
      "text/plain": [
       "0"
      ]
     },
     "execution_count": 3,
     "metadata": {},
     "output_type": "execute_result"
    }
   ],
   "source": [
    "### Drop dupli\n",
    "# 중복 제거 전 DataFrame의 행 길이 확인\n",
    "#print(\"df.shape 1 :\", df.shape[0].compute())\n",
    "\n",
    "# 첫 번째 중복 제거\n",
    "df_2 = df.drop_duplicates(subset=['type_websocket', 'timestamp', 'sys_datetime'], keep='first')\n",
    "# 중복 제거 후 DataFrame의 행 길이 확인\n",
    "#print(\"df.shape 2 :\", df.shape[0].compute())\n",
    "\n",
    "# 두 번째 중복 제거\n",
    "df_3 = df_2.drop_duplicates(subset=['type_websocket', 'opening_price', 'high_price', 'low_price', 'trade_price', 'prev_closing_price', 'change', 'change_price', 'signed_change_price', 'change_rate', 'signed_change_rate', 'trade_volume', 'acc_trade_volume', 'acc_trade_price', 'trade_date', 'ask_bid', 'acc_ask_volume', 'acc_bid_volume', 'highest_52_week_price', 'highest_52_week_date', 'lowest_52_week_price', 'lowest_52_week_date', 'market_state', 'is_trading_suspended', 'total_ask_size', 'total_bid_size', 'orderbook_ap_0', 'orderbook_as_0', 'orderbook_bp_0', 'orderbook_bs_0', 'orderbook_ap_1', 'orderbook_as_1', 'orderbook_bp_1', 'orderbook_bs_1', 'orderbook_ap_2', 'orderbook_as_2', 'orderbook_bp_2', 'orderbook_bs_2', 'orderbook_ap_3', 'orderbook_as_3', 'orderbook_bp_3', 'orderbook_bs_3', 'orderbook_ap_4', 'orderbook_as_4', 'orderbook_bp_4', 'orderbook_bs_4', 'orderbook_ap_5', 'orderbook_as_5', 'orderbook_bp_5', 'orderbook_bs_5', 'orderbook_ap_6', 'orderbook_as_6', 'orderbook_bp_6', 'orderbook_bs_6', 'orderbook_ap_7', 'orderbook_as_7', 'orderbook_bp_7', 'orderbook_bs_7', 'orderbook_ap_8', 'orderbook_as_8', 'orderbook_bp_8', 'orderbook_bs_8', 'orderbook_ap_9', 'orderbook_as_9', 'orderbook_bp_9', 'orderbook_bs_9', 'orderbook_ap_10', 'orderbook_as_10', 'orderbook_bp_10', 'orderbook_bs_10', 'orderbook_ap_11', 'orderbook_as_11', 'orderbook_bp_11', 'orderbook_bs_11', 'orderbook_ap_12', 'orderbook_as_12', 'orderbook_bp_12', 'orderbook_bs_12', 'orderbook_ap_13', 'orderbook_as_13', 'orderbook_bp_13', 'orderbook_bs_13', 'orderbook_ap_14', 'orderbook_as_14', 'orderbook_bp_14', 'orderbook_bs_14'], keep='first')\n",
    "# 최종 중복 제거 후 DataFrame의 행 길이 확인\n",
    "#print(\"df.shape 3 :\", df.shape[0].compute())\n",
    "\n",
    "del df\n",
    "gc.collect()\n",
    "del df_2\n",
    "gc.collect()"
   ]
  },
  {
   "cell_type": "code",
   "execution_count": 4,
   "metadata": {},
   "outputs": [
    {
     "ename": "",
     "evalue": "",
     "output_type": "error",
     "traceback": [
      "\u001b[1;31mThe Kernel crashed while executing code in the the current cell or a previous cell. Please review the code in the cell(s) to identify a possible cause of the failure. Click <a href='https://aka.ms/vscodeJupyterKernelCrash'>here</a> for more info. View Jupyter <a href='command:jupyter.viewOutput'>log</a> for further details."
     ]
    }
   ],
   "source": [
    "row_count = df_3['datetime'].count().compute()\n",
    "print(row_count)"
   ]
  },
  {
   "cell_type": "code",
   "execution_count": null,
   "metadata": {},
   "outputs": [],
   "source": []
  }
 ],
 "metadata": {
  "kernelspec": {
   "display_name": "Python 3",
   "language": "python",
   "name": "python3"
  },
  "language_info": {
   "codemirror_mode": {
    "name": "ipython",
    "version": 3
   },
   "file_extension": ".py",
   "mimetype": "text/x-python",
   "name": "python",
   "nbconvert_exporter": "python",
   "pygments_lexer": "ipython3",
   "version": "3.8.18"
  }
 },
 "nbformat": 4,
 "nbformat_minor": 2
}

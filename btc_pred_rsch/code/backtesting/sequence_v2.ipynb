{
 "cells": [
  {
   "cell_type": "markdown",
   "metadata": {},
   "source": [
    "### Sequence 나누는 함수\n",
    "- backtesting 용"
   ]
  },
  {
   "cell_type": "code",
   "execution_count": 1,
   "metadata": {},
   "outputs": [
    {
     "name": "stdout",
     "output_type": "stream",
     "text": [
      "이 PC는 맥(OS X) 운영 체제입니다. mps is available\n"
     ]
    },
    {
     "name": "stderr",
     "output_type": "stream",
     "text": [
      "/opt/homebrew/lib/python3.8/site-packages/tqdm/auto.py:21: TqdmWarning: IProgress not found. Please update jupyter and ipywidgets. See https://ipywidgets.readthedocs.io/en/stable/user_install.html\n",
      "  from .autonotebook import tqdm as notebook_tqdm\n"
     ]
    }
   ],
   "source": [
    "# 필요 라이브러리 import\n",
    "\n",
    "# Pytorch\n",
    "import torch\n",
    "import torch.optim as optim\n",
    "import torch.nn as nn\n",
    "\n",
    "# Dataset 관련\n",
    "import numpy as np\n",
    "import pandas as pd\n",
    "from torch.utils.data import DataLoader, TensorDataset\n",
    "from sklearn.preprocessing import MinMaxScaler\n",
    "import sequence as sq # 사용자 정의 함수 불러오기\n",
    "\n",
    "# 성능 평가 관련\n",
    "from sklearn.metrics import precision_score, recall_score, f1_score, accuracy_score\n",
    "from sklearn.metrics import confusion_matrix\n",
    "from collections import Counter\n",
    "\n",
    "# Visualization 관련\n",
    "import matplotlib.pyplot as plt\n",
    "import seaborn as sns\n",
    "\n",
    "# 하이퍼파라미터 튜닝\n",
    "import optuna\n",
    "from optuna.pruners import MedianPruner\n",
    "from sklearn.model_selection import TimeSeriesSplit\n",
    "\n",
    "# 운영체제 관련\n",
    "import platform\n",
    "\n",
    "'''\n",
    "딥러닝 학습을 진행할 때, 가중치를 임의의 값으로 초기화하여 학습을 수행하는 데, \n",
    "실험을 동일하게 진행하기 위해서는 난수를 동일하게 생성해야 한다.\n",
    "Pytorch에서 random seed를 고정하기 위해 manual_seed를 사용한다.\n",
    "'''\n",
    "\n",
    "RANDOM_SEED = 42\n",
    "np.random.seed(RANDOM_SEED)\n",
    "torch.manual_seed(RANDOM_SEED)\n",
    "\n",
    "# 운영체제별 device 설정\n",
    "os_name = platform.system()\n",
    "if os_name == 'Windows':\n",
    "    device = torch.device(\"cuda:0\" if torch.cuda.is_available() else \"cpu\")\n",
    "    print(f\"이 PC는 윈도우 운영 체제입니다. {device} is available\")\n",
    "elif os_name == 'Darwin':\n",
    "    device = torch.device(\"mps\" if torch.backends.mps.is_available else \"cpu\")\n",
    "    print(f\"이 PC는 맥(OS X) 운영 체제입니다. {device} is available\")\n",
    "else:\n",
    "    print(f\"이 PC는 다른 운영 체제입니다: {os_name}\")\n"
   ]
  },
  {
   "cell_type": "code",
   "execution_count": 2,
   "metadata": {},
   "outputs": [
    {
     "name": "stdout",
     "output_type": "stream",
     "text": [
      "Full Data Size: torch.Size([21387, 20, 78]) torch.Size([21387, 1])\n",
      "Train Size: torch.Size([17109, 20, 78]) torch.Size([17109, 1])\n",
      "Test Size: torch.Size([4278, 20, 78]) torch.Size([4278, 1])\n"
     ]
    }
   ],
   "source": [
    "# 데이터 불러오기\n",
    "file_path = '../../data/' # 경로 설정\n",
    "df = pd.read_csv(file_path + 'bitcoin_data_num_rows_gt_5.csv')\n",
    "df = df.iloc[:50000]\n",
    "df['returns_next10m'] = df['returns_next10m'].apply(lambda x: 0 if x <= 0 else 1) # 종속변수 이진분류화\n",
    "df = df.sort_values(by='window_start', ascending=True) # 시간순 정렬\n",
    "df = df.reset_index() # backtesting을 위한 index 값 생성\n",
    "\n",
    "# sequence length를 기준으로 sequence 데이터 생성\n",
    "seq_len = 20 # 20, 40, 80, 160, 320\n",
    "X, y = sq.create_sequence(df, seq_len=seq_len) # 사용자 정의 함수\n",
    "# Tensor화\n",
    "X_torch = torch.FloatTensor(X).to(device)\n",
    "y_torch = torch.FloatTensor(y).to(device)\n",
    "print('Full Data Size:', X_torch.size(), y_torch.size())\n",
    "\n",
    "# split (80% / 20%)\n",
    "train_split = int((X_torch.size(0)) * 0.8)\n",
    "\n",
    "X_train_seq = X_torch[:train_split]\n",
    "X_test_seq = X_torch[train_split:]\n",
    "y_train_seq = y_torch[:train_split]\n",
    "y_test_seq = y_torch[train_split:]\n",
    "\n",
    "print('Train Size:', X_train_seq.size(), y_train_seq.size())\n",
    "print('Test Size:', X_test_seq.size(), y_test_seq.size())\n"
   ]
  },
  {
   "cell_type": "code",
   "execution_count": 3,
   "metadata": {},
   "outputs": [],
   "source": [
    "\"\"\"\n",
    "Note: bitcoin_prepro_v2.ipynb 파일을 통해 생성된 df에 적용할 것\n",
    "\"\"\"\n",
    "\n",
    "import pandas as pd\n",
    "import numpy as np\n",
    "from sklearn.preprocessing import MinMaxScaler\n",
    "\n",
    "def create_sequence(df, seq_len):\n",
    "    # 1. 변수 선택\n",
    "    # 종속변수 리스트\n",
    "    #target_var_lst = ['returns', 'returns_next10m', 'realized_vol_next10m']\n",
    "    #target_var = 'returns_next10m' # 종속변수\n",
    "\n",
    "    # 시퀀스 생성 전 필요없는 컬럼 삭제\n",
    "    df.drop(columns=['window_start', 'window_end','num_rows', 'time_id'], inplace=True) # 시간 관련 변수\n",
    "\n",
    "    # target을 제외한 나머지 종속변수 삭제\n",
    "    #cols_to_drop = [var for var in target_var_lst if var != target_var]\n",
    "    #df.drop(columns=cols_to_drop, inplace=True) # 종속변수\n",
    "    #df['returns_next10m'] = df['returns_next10m'].apply(lambda x: 0 if x <= 0 else 1) 2진 분류화는 ipynb 파일에서 직접 수행\n",
    "\n",
    "    # 종속변수를 데이터 프레임 맨 뒤로 옮기기\n",
    "    cols = df.columns.tolist()\n",
    "    cols = [col for col in cols if col != 'returns_next10m'] + ['returns_next10m'] # 종속변수 맨 뒤로\n",
    "    df = df[cols]\n",
    "\n",
    "    # 2. sequence 생성\n",
    "    sequences = []\n",
    "    scaler = MinMaxScaler()\n",
    "    \n",
    "    for start_idx in range(len(df) - seq_len + 1):  # 데이터 프레임을 순회하며 시퀀스 생성\n",
    "        end_idx = start_idx + seq_len\n",
    "        sequence = df.iloc[start_idx:end_idx]\n",
    "        \n",
    "        # 시퀀스 내에 del_idx가 1인 행이 있다면, 해당 시퀀스를 제외\n",
    "        if sequence['del_idx'].sum() == 0:\n",
    "            # 예측하고자 하는 마지막 피처의 값을 제외하고 스케일링\n",
    "            scaled_sequence = scaler.fit_transform(sequence.drop(columns=['del_idx', target_var]))\n",
    "            \n",
    "            # 스케일링된 시퀀스에 예측하고자 하는 마지막 피처의 값을 추가\n",
    "            scaled_sequence_with_target = pd.concat([pd.DataFrame(scaled_sequence), sequence[target_var].reset_index(drop=True)], axis=1)\n",
    "            \n",
    "            # 최종 시퀀스 추가\n",
    "            sequences.append(scaled_sequence_with_target.values)\n",
    "            \n",
    "    # 3. X, y split\n",
    "    sequences = np.array(sequences)\n",
    "    # X와 y를 분리\n",
    "    X = sequences[:, :, :-1] # 마지s막 시퀀스와 마지막 컬럼을 제외한 나머지\n",
    "    y = sequences[:, -1, -1].reshape(-1, 1) # 각 시퀀스의 마지막 행, 마지막 컬럼의 값\n",
    "\n",
    "    return X, y\n"
   ]
  },
  {
   "cell_type": "code",
   "execution_count": 5,
   "metadata": {},
   "outputs": [],
   "source": [
    "# 데이터 불러오기\n",
    "file_path = '../../data/' # 경로 설정\n",
    "df = pd.read_csv(file_path + 'bitcoin_data_num_rows_gt_5.csv')\n",
    "df = df.iloc[:10000]\n",
    "df['returns_next10m'] = df['returns_next10m'].apply(lambda x: 0 if x <= 0 else 1) # 종속변수 이진분류화\n",
    "df = df.sort_values(by='window_start', ascending=True) # 시간순 정렬\n",
    "df = df.reset_index() # backtesting을 위한 index 값 생성\n",
    "\n",
    "X, y= create_sequence(df, 20)"
   ]
  },
  {
   "cell_type": "code",
   "execution_count": 25,
   "metadata": {},
   "outputs": [
    {
     "ename": "NameError",
     "evalue": "name 'model' is not defined",
     "output_type": "error",
     "traceback": [
      "\u001b[0;31m---------------------------------------------------------------------------\u001b[0m",
      "\u001b[0;31mNameError\u001b[0m                                 Traceback (most recent call last)",
      "Cell \u001b[0;32mIn[25], line 29\u001b[0m\n\u001b[1;32m     26\u001b[0m X, y, indices \u001b[38;5;241m=\u001b[39m create_sequence_with_index(df, seq_len\u001b[38;5;241m=\u001b[39m\u001b[38;5;241m20\u001b[39m)\n\u001b[1;32m     28\u001b[0m \u001b[38;5;66;03m# 모델 학습 및 예측 후\u001b[39;00m\n\u001b[0;32m---> 29\u001b[0m predicted \u001b[38;5;241m=\u001b[39m \u001b[43mmodel\u001b[49m\u001b[38;5;241m.\u001b[39mpredict(X)\n\u001b[1;32m     31\u001b[0m \u001b[38;5;66;03m# 예측 결과가 1인 인덱스 찾기\u001b[39;00m\n\u001b[1;32m     32\u001b[0m predicted_indices \u001b[38;5;241m=\u001b[39m indices[predicted\u001b[38;5;241m.\u001b[39mflatten() \u001b[38;5;241m==\u001b[39m \u001b[38;5;241m1\u001b[39m]\n",
      "\u001b[0;31mNameError\u001b[0m: name 'model' is not defined"
     ]
    }
   ],
   "source": [
    "%%writefile sequence\n",
    "def create_sequence_with_index(df, seq_len):\n",
    "    sequences = []\n",
    "    scaler = MinMaxScaler()\n",
    "    sequence_indices = []  # 시퀀스의 마지막 행 인덱스를 저장할 리스트\n",
    "    target_var = 'returns_next10m' # 종속변수\n",
    "\n",
    "    \n",
    "    for start_idx in range(len(df) - seq_len + 1):\n",
    "        end_idx = start_idx + seq_len\n",
    "        sequence = df.iloc[start_idx:end_idx]\n",
    "        \n",
    "        if sequence['del_idx'].sum() == 0:\n",
    "            scaled_sequence = scaler.fit_transform(sequence.drop(columns=['del_idx', target_var]))\n",
    "            scaled_sequence_with_target = pd.concat([pd.DataFrame(scaled_sequence), sequence[target_var].reset_index(drop=True)], axis=1)\n",
    "            sequences.append(scaled_sequence_with_target.values)\n",
    "            sequence_indices.append(sequence.index[-1])  # 마지막 행의 인덱스 추가\n",
    "    \n",
    "    sequences = np.array(sequences)\n",
    "    X = sequences[:, :, :-1]\n",
    "    y = sequences[:, -1, -1]\n",
    "    indices = np.array(sequence_indices)  # 마지막 행 인덱스를 numpy 배열로 변환\n",
    "    \n",
    "    return X, y, indices\n"
   ]
  },
  {
   "cell_type": "code",
   "execution_count": null,
   "metadata": {},
   "outputs": [],
   "source": [
    "\n",
    "# 함수 사용 예시\n",
    "X, y, indices = create_sequence_with_index(df, seq_len=20)\n",
    "\n",
    "# 모델 학습 및 예측 후\n",
    "predicted = model.predict(X)\n",
    "\n",
    "# 예측 결과가 1인 인덱스 찾기\n",
    "predicted_indices = indices[predicted.flatten() == 1]\n",
    "\n",
    "# 예측 결과가 1인 인덱스를 사용하여 원본 데이터에서 해당하는 return 값 추출\n",
    "original_data_with_predictions = df.loc[predicted_indices]\n",
    "\n",
    "# 백테스팅\n",
    "# 예를 들어, 'returns_next10m'을 사용한 수익률 계산 등"
   ]
  },
  {
   "cell_type": "code",
   "execution_count": 30,
   "metadata": {},
   "outputs": [
    {
     "name": "stdout",
     "output_type": "stream",
     "text": [
      "(4406, 20, 80)\n",
      "(4406,)\n",
      "(4406,)\n"
     ]
    }
   ],
   "source": [
    "print(X.shape)\n",
    "print(y.shape)\n",
    "print(indices.shape)"
   ]
  },
  {
   "cell_type": "code",
   "execution_count": 21,
   "metadata": {},
   "outputs": [
    {
     "data": {
      "text/plain": [
       "(882, 20, 80)"
      ]
     },
     "execution_count": 21,
     "metadata": {},
     "output_type": "execute_result"
    }
   ],
   "source": [
    "# split (80% / 20%)\n",
    "train_split = int(X.shape[0] * 0.8)\n",
    "X[train_split:].shape"
   ]
  },
  {
   "cell_type": "code",
   "execution_count": 22,
   "metadata": {},
   "outputs": [
    {
     "data": {
      "text/plain": [
       "(882, 1)"
      ]
     },
     "execution_count": 22,
     "metadata": {},
     "output_type": "execute_result"
    }
   ],
   "source": [
    "y[train_split:].shape"
   ]
  }
 ],
 "metadata": {
  "kernelspec": {
   "display_name": "Python 3",
   "language": "python",
   "name": "python3"
  },
  "language_info": {
   "codemirror_mode": {
    "name": "ipython",
    "version": 3
   },
   "file_extension": ".py",
   "mimetype": "text/x-python",
   "name": "python",
   "nbconvert_exporter": "python",
   "pygments_lexer": "ipython3",
   "version": "3.8.18"
  }
 },
 "nbformat": 4,
 "nbformat_minor": 2
}

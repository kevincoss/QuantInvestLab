{
 "cells": [
  {
   "cell_type": "markdown",
   "metadata": {},
   "source": [
    "### num_rows 기준 정하고 그에 해당하는 시퀀스 모두 제거하는 코드\n",
    "\n",
    "- 코드설명\n",
    "1. del_idx 컬럼의 값을 가진 csv file 불러오기 (bitcoin_prepro_v2.ipynb에서 작업)\n",
    "2. num_rows 기준에 해당하는 값과 그 값이 포함된 시퀀스 제외한 최종 시퀀스 생성\n",
    "3. 시퀀스 정규화(MinMaxScale) 및 tensor 형태로 변환\n",
    "4. 모든 sequence 기준(20, 40, ... 320)에 따른 pickle 파일 생성 및 저장"
   ]
  },
  {
   "cell_type": "code",
   "execution_count": 2,
   "metadata": {},
   "outputs": [],
   "source": [
    "import pandas as pd\n",
    "import numpy as np\n",
    "from sklearn.preprocessing import MinMaxScaler"
   ]
  },
  {
   "cell_type": "code",
   "execution_count": 3,
   "metadata": {},
   "outputs": [
    {
     "name": "stdout",
     "output_type": "stream",
     "text": [
      "(149559, 85)\n"
     ]
    },
    {
     "data": {
      "text/html": [
       "<div>\n",
       "<style scoped>\n",
       "    .dataframe tbody tr th:only-of-type {\n",
       "        vertical-align: middle;\n",
       "    }\n",
       "\n",
       "    .dataframe tbody tr th {\n",
       "        vertical-align: top;\n",
       "    }\n",
       "\n",
       "    .dataframe thead th {\n",
       "        text-align: right;\n",
       "    }\n",
       "</style>\n",
       "<table border=\"1\" class=\"dataframe\">\n",
       "  <thead>\n",
       "    <tr style=\"text-align: right;\">\n",
       "      <th></th>\n",
       "      <th>window_start</th>\n",
       "      <th>window_end</th>\n",
       "      <th>num_rows</th>\n",
       "      <th>lowest_return</th>\n",
       "      <th>highest_return</th>\n",
       "      <th>high_low_gap</th>\n",
       "      <th>trade_vol</th>\n",
       "      <th>volume_power</th>\n",
       "      <th>beginning_price</th>\n",
       "      <th>ending_price</th>\n",
       "      <th>...</th>\n",
       "      <th>ob_end_bs_14</th>\n",
       "      <th>ob_end_bias_0</th>\n",
       "      <th>ob_end_bias_1</th>\n",
       "      <th>ob_end_bias_4</th>\n",
       "      <th>ob_end_bidask_spread</th>\n",
       "      <th>ob_end_liq_0</th>\n",
       "      <th>ob_end_liq_1</th>\n",
       "      <th>ob_end_liq_4</th>\n",
       "      <th>highest_possible_return</th>\n",
       "      <th>del_idx</th>\n",
       "    </tr>\n",
       "  </thead>\n",
       "  <tbody>\n",
       "    <tr>\n",
       "      <th>0</th>\n",
       "      <td>2022-12-16 21:05:30</td>\n",
       "      <td>2022-12-16 21:06:00</td>\n",
       "      <td>14</td>\n",
       "      <td>0.000000</td>\n",
       "      <td>0.000089</td>\n",
       "      <td>0.000089</td>\n",
       "      <td>1.468656</td>\n",
       "      <td>0.747351</td>\n",
       "      <td>22568000.0</td>\n",
       "      <td>22570000.0</td>\n",
       "      <td>...</td>\n",
       "      <td>1.467714</td>\n",
       "      <td>5.470422</td>\n",
       "      <td>10.649683</td>\n",
       "      <td>3.235541</td>\n",
       "      <td>2.0</td>\n",
       "      <td>0.001693</td>\n",
       "      <td>0.002198</td>\n",
       "      <td>0.002412</td>\n",
       "      <td>1.000000</td>\n",
       "      <td>0</td>\n",
       "    </tr>\n",
       "    <tr>\n",
       "      <th>1</th>\n",
       "      <td>2022-12-16 21:06:00</td>\n",
       "      <td>2022-12-16 21:06:30</td>\n",
       "      <td>10</td>\n",
       "      <td>0.000000</td>\n",
       "      <td>0.000089</td>\n",
       "      <td>0.000089</td>\n",
       "      <td>0.567585</td>\n",
       "      <td>0.027857</td>\n",
       "      <td>22568000.0</td>\n",
       "      <td>22570000.0</td>\n",
       "      <td>...</td>\n",
       "      <td>0.143039</td>\n",
       "      <td>4.224361</td>\n",
       "      <td>14.918538</td>\n",
       "      <td>3.856600</td>\n",
       "      <td>2.0</td>\n",
       "      <td>0.000531</td>\n",
       "      <td>0.001064</td>\n",
       "      <td>0.001471</td>\n",
       "      <td>1.000000</td>\n",
       "      <td>0</td>\n",
       "    </tr>\n",
       "    <tr>\n",
       "      <th>2</th>\n",
       "      <td>2022-12-16 21:06:30</td>\n",
       "      <td>2022-12-16 21:07:00</td>\n",
       "      <td>24</td>\n",
       "      <td>-0.000576</td>\n",
       "      <td>0.000044</td>\n",
       "      <td>0.000620</td>\n",
       "      <td>1.677093</td>\n",
       "      <td>0.146635</td>\n",
       "      <td>22570000.0</td>\n",
       "      <td>22570000.0</td>\n",
       "      <td>...</td>\n",
       "      <td>0.271898</td>\n",
       "      <td>17.677511</td>\n",
       "      <td>9.697905</td>\n",
       "      <td>1.106227</td>\n",
       "      <td>14.0</td>\n",
       "      <td>0.000449</td>\n",
       "      <td>0.000536</td>\n",
       "      <td>0.001821</td>\n",
       "      <td>0.999778</td>\n",
       "      <td>0</td>\n",
       "    </tr>\n",
       "    <tr>\n",
       "      <th>3</th>\n",
       "      <td>2022-12-16 21:07:00</td>\n",
       "      <td>2022-12-16 21:07:30</td>\n",
       "      <td>22</td>\n",
       "      <td>-0.000044</td>\n",
       "      <td>0.000443</td>\n",
       "      <td>0.000488</td>\n",
       "      <td>2.439677</td>\n",
       "      <td>0.751995</td>\n",
       "      <td>22557000.0</td>\n",
       "      <td>22567000.0</td>\n",
       "      <td>...</td>\n",
       "      <td>0.640898</td>\n",
       "      <td>95.630870</td>\n",
       "      <td>3.371113</td>\n",
       "      <td>1.367349</td>\n",
       "      <td>2.0</td>\n",
       "      <td>0.000416</td>\n",
       "      <td>0.000480</td>\n",
       "      <td>0.001422</td>\n",
       "      <td>0.999911</td>\n",
       "      <td>0</td>\n",
       "    </tr>\n",
       "    <tr>\n",
       "      <th>4</th>\n",
       "      <td>2022-12-16 21:07:30</td>\n",
       "      <td>2022-12-16 21:08:00</td>\n",
       "      <td>24</td>\n",
       "      <td>-0.000443</td>\n",
       "      <td>0.000000</td>\n",
       "      <td>0.000443</td>\n",
       "      <td>2.345821</td>\n",
       "      <td>-0.915608</td>\n",
       "      <td>22565000.0</td>\n",
       "      <td>22555000.0</td>\n",
       "      <td>...</td>\n",
       "      <td>0.081040</td>\n",
       "      <td>0.114815</td>\n",
       "      <td>0.828364</td>\n",
       "      <td>0.068175</td>\n",
       "      <td>10.0</td>\n",
       "      <td>0.000311</td>\n",
       "      <td>0.000560</td>\n",
       "      <td>0.003454</td>\n",
       "      <td>0.999911</td>\n",
       "      <td>0</td>\n",
       "    </tr>\n",
       "  </tbody>\n",
       "</table>\n",
       "<p>5 rows × 85 columns</p>\n",
       "</div>"
      ],
      "text/plain": [
       "          window_start           window_end  num_rows  lowest_return  \\\n",
       "0  2022-12-16 21:05:30  2022-12-16 21:06:00        14       0.000000   \n",
       "1  2022-12-16 21:06:00  2022-12-16 21:06:30        10       0.000000   \n",
       "2  2022-12-16 21:06:30  2022-12-16 21:07:00        24      -0.000576   \n",
       "3  2022-12-16 21:07:00  2022-12-16 21:07:30        22      -0.000044   \n",
       "4  2022-12-16 21:07:30  2022-12-16 21:08:00        24      -0.000443   \n",
       "\n",
       "   highest_return  high_low_gap  trade_vol  volume_power  beginning_price  \\\n",
       "0        0.000089      0.000089   1.468656      0.747351       22568000.0   \n",
       "1        0.000089      0.000089   0.567585      0.027857       22568000.0   \n",
       "2        0.000044      0.000620   1.677093      0.146635       22570000.0   \n",
       "3        0.000443      0.000488   2.439677      0.751995       22557000.0   \n",
       "4        0.000000      0.000443   2.345821     -0.915608       22565000.0   \n",
       "\n",
       "   ending_price  ...  ob_end_bs_14  ob_end_bias_0  ob_end_bias_1  \\\n",
       "0    22570000.0  ...      1.467714       5.470422      10.649683   \n",
       "1    22570000.0  ...      0.143039       4.224361      14.918538   \n",
       "2    22570000.0  ...      0.271898      17.677511       9.697905   \n",
       "3    22567000.0  ...      0.640898      95.630870       3.371113   \n",
       "4    22555000.0  ...      0.081040       0.114815       0.828364   \n",
       "\n",
       "   ob_end_bias_4  ob_end_bidask_spread ob_end_liq_0  ob_end_liq_1  \\\n",
       "0       3.235541                   2.0     0.001693      0.002198   \n",
       "1       3.856600                   2.0     0.000531      0.001064   \n",
       "2       1.106227                  14.0     0.000449      0.000536   \n",
       "3       1.367349                   2.0     0.000416      0.000480   \n",
       "4       0.068175                  10.0     0.000311      0.000560   \n",
       "\n",
       "   ob_end_liq_4  highest_possible_return  del_idx  \n",
       "0      0.002412                 1.000000        0  \n",
       "1      0.001471                 1.000000        0  \n",
       "2      0.001821                 0.999778        0  \n",
       "3      0.001422                 0.999911        0  \n",
       "4      0.003454                 0.999911        0  \n",
       "\n",
       "[5 rows x 85 columns]"
      ]
     },
     "execution_count": 3,
     "metadata": {},
     "output_type": "execute_result"
    }
   ],
   "source": [
    "file_path = '../../data/' \n",
    "df = pd.read_csv(file_path + 'bitcoin_data_num_rows_gt_5.csv')\n",
    "df = df.sort_values(by='window_start', ascending=True) # 시간순 정렬\n",
    "print(df.shape)\n",
    "df.head()"
   ]
  },
  {
   "cell_type": "code",
   "execution_count": 3,
   "metadata": {},
   "outputs": [],
   "source": [
    "# for verification\n",
    "# verification_row = df[df['window_start'] == '2022-12-16 21:05:30'][['window_start',\n",
    "#                                                                     'lowest_return',\n",
    "#                                                                     'highest_return',\n",
    "#                                                                     'highest_possible_return',\n",
    "#                                                                     'returns_next10m']]\n",
    "# verification_row"
   ]
  },
  {
   "cell_type": "markdown",
   "metadata": {},
   "source": [
    "#### 전처리) 변수 선택 \n",
    "- 종속변수 단일화\n",
    "- 시간 관련 변수 제거\n",
    "- 종속변수 맨 뒤로 이동(맨 뒤에 값을 제외하고 정규화 진행하기 위함)"
   ]
  },
  {
   "cell_type": "code",
   "execution_count": 4,
   "metadata": {},
   "outputs": [
    {
     "data": {
      "text/plain": [
       "Index(['lowest_return', 'highest_return', 'high_low_gap', 'trade_vol',\n",
       "       'volume_power', 'beginning_price', 'ending_price', 'lowest_price',\n",
       "       'highest_price', 'ob_end_ap_0', 'ob_end_as_0', 'ob_end_bp_0',\n",
       "       'ob_end_bs_0', 'ob_end_ap_1', 'ob_end_as_1', 'ob_end_bp_1',\n",
       "       'ob_end_bs_1', 'ob_end_ap_2', 'ob_end_as_2', 'ob_end_bp_2',\n",
       "       'ob_end_bs_2', 'ob_end_ap_3', 'ob_end_as_3', 'ob_end_bp_3',\n",
       "       'ob_end_bs_3', 'ob_end_ap_4', 'ob_end_as_4', 'ob_end_bp_4',\n",
       "       'ob_end_bs_4', 'ob_end_ap_5', 'ob_end_as_5', 'ob_end_bp_5',\n",
       "       'ob_end_bs_5', 'ob_end_ap_6', 'ob_end_as_6', 'ob_end_bp_6',\n",
       "       'ob_end_bs_6', 'ob_end_ap_7', 'ob_end_as_7', 'ob_end_bp_7',\n",
       "       'ob_end_bs_7', 'ob_end_ap_8', 'ob_end_as_8', 'ob_end_bp_8',\n",
       "       'ob_end_bs_8', 'ob_end_ap_9', 'ob_end_as_9', 'ob_end_bp_9',\n",
       "       'ob_end_bs_9', 'ob_end_ap_10', 'ob_end_as_10', 'ob_end_bp_10',\n",
       "       'ob_end_bs_10', 'ob_end_ap_11', 'ob_end_as_11', 'ob_end_bp_11',\n",
       "       'ob_end_bs_11', 'ob_end_ap_12', 'ob_end_as_12', 'ob_end_bp_12',\n",
       "       'ob_end_bs_12', 'ob_end_ap_13', 'ob_end_as_13', 'ob_end_bp_13',\n",
       "       'ob_end_bs_13', 'ob_end_ap_14', 'ob_end_as_14', 'ob_end_bp_14',\n",
       "       'ob_end_bs_14', 'ob_end_bias_0', 'ob_end_bias_1', 'ob_end_bias_4',\n",
       "       'ob_end_bidask_spread', 'ob_end_liq_0', 'ob_end_liq_1', 'ob_end_liq_4',\n",
       "       'highest_possible_return', 'del_idx', 'returns_next10m'],\n",
       "      dtype='object')"
      ]
     },
     "execution_count": 4,
     "metadata": {},
     "output_type": "execute_result"
    }
   ],
   "source": [
    "# 종속변수 리스트\n",
    "target_var_lst = ['returns', 'returns_next10m', 'realized_vol_next10m']\n",
    "target_var = 'returns_next10m' # 종속변수\n",
    "\n",
    "# 시퀀스 생성 전 필요없는 컬럼 삭제\n",
    "df.drop(columns=['window_start', 'window_end','num_rows', 'time_id'], inplace=True) # 시간 관련 변수\n",
    "\n",
    "# target을 제외한 나머지 종속변수 삭제\n",
    "cols_to_drop = [var for var in target_var_lst if var != target_var]\n",
    "df.drop(columns=cols_to_drop, inplace=True) # 종속변수\n",
    "\n",
    "# 종속변수를 데이터 프레임 맨 뒤로 옮기기\n",
    "cols = df.columns.tolist()\n",
    "cols = [col for col in cols if col != 'returns_next10m'] + ['returns_next10m'] # 종속변수 맨 뒤로\n",
    "df = df[cols]\n",
    "df.columns"
   ]
  },
  {
   "cell_type": "code",
   "execution_count": 5,
   "metadata": {},
   "outputs": [],
   "source": [
    "# 예전 버전\n",
    "# def del_sequence(df, seq_len):\n",
    "#     # 시퀀스 데이터를 저장할 리스트\n",
    "#     sequences = []\n",
    "    \n",
    "#     for start_idx in range(len(df) - seq_len + 1): # 데이터 프레임을 순회하며 시퀀스 생성\n",
    "#         end_idx = start_idx + seq_len\n",
    "#         sequence = df.iloc[start_idx:end_idx]\n",
    "\n",
    "#         # 시퀀스 내에 del_idx가 1인 행이 있다면, 해당 시퀀스를 제외\n",
    "#         if sequence['del_idx'].sum() == 0:\n",
    "#             # del_idx 열을 제외하고 시퀀스 추가\n",
    "#             sequences.append(sequence.drop('del_idx', axis=1).values)\n",
    "\n",
    "#     return sequences\n"
   ]
  },
  {
   "cell_type": "markdown",
   "metadata": {},
   "source": [
    "#### sequence 함수 생성\n",
    "- sequence 별로 데이터 나누고 정규화 진행"
   ]
  },
  {
   "cell_type": "code",
   "execution_count": 6,
   "metadata": {},
   "outputs": [],
   "source": [
    "# num_rows가 n개 이하인 것에 해당하는 sequence를 제거하는 함수\n",
    "\n",
    "# 스케일 추가 버전\n",
    "def del_sequence(df, seq_len):\n",
    "    # 시퀀스 데이터를 저장할 리스트\n",
    "    sequences = []\n",
    "    scaler = MinMaxScaler()\n",
    "    \n",
    "    for start_idx in range(len(df) - seq_len + 1):  # 데이터 프레임을 순회하며 시퀀스 생성\n",
    "        end_idx = start_idx + seq_len\n",
    "        sequence = df.iloc[start_idx:end_idx]\n",
    "        \n",
    "        # 시퀀스 내에 del_idx가 1인 행이 있다면, 해당 시퀀스를 제외\n",
    "        if sequence['del_idx'].sum() == 0:\n",
    "            # 예측하고자 하는 마지막 피처의 값을 제외하고 스케일링\n",
    "            scaled_sequence = scaler.fit_transform(sequence.drop(columns=['del_idx', sequence.columns[-1]]))\n",
    "\n",
    "            # 스케일링된 시퀀스에 예측하고자 하는 마지막 피처의 값을 추가\n",
    "            scaled_sequence_with_target = pd.concat([pd.DataFrame(scaled_sequence), sequence[sequence.columns[-1]].reset_index(drop=True)], axis=1)\n",
    "            \n",
    "            # 최종 시퀀스 추가\n",
    "            sequences.append(scaled_sequence_with_target.values)\n",
    "    \n",
    "    return sequences"
   ]
  },
  {
   "cell_type": "code",
   "execution_count": 7,
   "metadata": {},
   "outputs": [
    {
     "name": "stdout",
     "output_type": "stream",
     "text": [
      "shape of sequence data: (76616, 160, 78)\n"
     ]
    }
   ],
   "source": [
    "# sequence 제거 수행\n",
    "seq_len = 20 # 시퀀스 길이\n",
    "sequences = del_sequence(df, seq_len=seq_len)\n",
    "print(f\"shape of sequence data: {np.array(sequences).shape}\")"
   ]
  },
  {
   "cell_type": "code",
   "execution_count": 8,
   "metadata": {},
   "outputs": [],
   "source": [
    "# for verification\n",
    "#sequences[0][0]"
   ]
  },
  {
   "cell_type": "markdown",
   "metadata": {},
   "source": [
    "#### train test split"
   ]
  },
  {
   "cell_type": "code",
   "execution_count": 7,
   "metadata": {},
   "outputs": [
    {
     "name": "stdout",
     "output_type": "stream",
     "text": [
      "이 PC는 맥(OS X) 운영 체제입니다: mps is available\n",
      "Full Data Size: torch.Size([111077, 20, 77]) torch.Size([111077, 1])\n",
      "Train Size: torch.Size([88861, 20, 77]) torch.Size([88861, 1])\n",
      "Test Size: torch.Size([22216, 20, 77]) torch.Size([22216, 1])\n"
     ]
    }
   ],
   "source": [
    "import torch\n",
    "import sequence as sq\n",
    "import platform\n",
    "\n",
    "RANDOM_SEED = 42\n",
    "np.random.seed(RANDOM_SEED)\n",
    "torch.manual_seed(RANDOM_SEED)\n",
    "\n",
    "# 운영체제별 device 설정\n",
    "os_name = platform.system()\n",
    "if os_name == 'Windows':\n",
    "    device = torch.device(\"cuda:0\" if torch.cuda.is_available() else \"cpu\")\n",
    "    print(f\"이 PC는 윈도우 운영 체제입니다: {device} is available\")\n",
    "elif os_name == 'Darwin':\n",
    "    device = torch.device(\"mps\" if torch.backends.mps.is_available else \"cpu\")\n",
    "    print(f\"이 PC는 맥(OS X) 운영 체제입니다: {device} is available\")\n",
    "else:\n",
    "    print(f\"이 PC는 다른 운영 체제입니다: {os_name}\")\n",
    "\n",
    "# 데이터 불러오기\n",
    "file_path = '../../data/' # 경로 설정\n",
    "df = pd.read_csv(file_path + 'bitcoin_data_num_rows_gt_5.csv')\n",
    "#df = df.iloc[:10000]\n",
    "df['returns_next10m'] = df['returns_next10m'].apply(lambda x: 0 if x <= 0 else 1) # 종속변수 이진분류화\n",
    "df = df.sort_values(by='window_start', ascending=True) # 시간순 정렬\n",
    "\n",
    "# sequence length를 기준으로 sequence 데이터 생성\n",
    "seq_len = 20 # 20, 40, 80, 160, 320\n",
    "X, y = sq.create_sequence(df, seq_len=seq_len) # 사용자 정의 함수\n",
    "# Tensor화\n",
    "X = torch.FloatTensor(X).to(device)\n",
    "y = torch.FloatTensor(y).to(device)\n",
    "print('Full Data Size:', X.size(), y.size())\n",
    "\n",
    "# split (60% / 20% / 20%)\n",
    "train_split = int((X.size(0)) * 0.8)\n",
    "#valid_split = int((X.size(0)) * 0.8)\n",
    "\n",
    "X_train_seq = X[:train_split]\n",
    "#X_val_seq = X[train_split:valid_split]\n",
    "X_test_seq = X[train_split:]\n",
    "y_train_seq = y[:train_split]\n",
    "#y_val_seq = y[train_split:valid_split]\n",
    "y_test_seq = y[train_split:]\n",
    "\n",
    "print('Train Size:', X_train_seq.size(), y_train_seq.size())\n",
    "#print('Valid Size:', X_val_seq.size(), y_val_seq.size())\n",
    "print('Test Size:', X_test_seq.size(), y_test_seq.size())"
   ]
  },
  {
   "cell_type": "code",
   "execution_count": 9,
   "metadata": {},
   "outputs": [
    {
     "name": "stdout",
     "output_type": "stream",
     "text": [
      "X shape: torch.Size([76616, 160, 77])\n",
      "y shape: torch.Size([76616, 1])\n",
      "x_train shape: torch.Size([53631, 160, 77]), y_train shape: torch.Size([53631, 1])\n",
      "x_test shape: torch.Size([22985, 160, 77]), y_test shape: torch.Size([22985, 1])\n"
     ]
    }
   ],
   "source": [
    "\n",
    "\n",
    "# device = torch.device(\"mps\")\n",
    "# # X, y값 나누기\n",
    "\n",
    "# sequences = np.array(sequences)\n",
    "\n",
    "# # X와 y를 분리\n",
    "# X = torch.FloatTensor(sequences[:, :, :-1]).to(device) # 마지막 시퀀스와 마지막 컬럼을 제외한 나머지\n",
    "# y = torch.FloatTensor(sequences[:, -1, -1]).view(-1, 1).to(device) # 각 시퀀스의 마지막 행, 마지막 컬럼의 값\n",
    "\n",
    "# # split 정의 후 train, test split\n",
    "# split = int(len(sequences)*0.8) # 70%를 학습데이터로\n",
    "# x_train_seq = X[:split]\n",
    "# y_train_seq = y[:split]\n",
    "# x_test_seq = X[split:]\n",
    "# y_test_seq = y[split:]\n",
    "\n",
    "# # 결과 확인\n",
    "# print(f'X shape: {X.size()}')  # X의 형태 확인\n",
    "# print(f'y shape: {y.size()}')  # y의 형태 확인\n",
    "# print(f'x_train shape: {x_train_seq.size()}, y_train shape: {y_train_seq.size()}')\n",
    "# print(f'x_test shape: {x_test_seq.size()}, y_test shape: {y_test_seq.size()}')"
   ]
  },
  {
   "cell_type": "markdown",
   "metadata": {},
   "source": [
    "#### pickle 파일 생성 및 저장"
   ]
  },
  {
   "cell_type": "code",
   "execution_count": 9,
   "metadata": {},
   "outputs": [
    {
     "name": "stdout",
     "output_type": "stream",
     "text": [
      "20 sequence data export finished\n"
     ]
    }
   ],
   "source": [
    "# Pickle 모듈 사용하여 리스트 파일로 내보내기\n",
    "import os\n",
    "import pickle\n",
    "file_path = '../../data/'\n",
    "\n",
    "# 폴더가 없으면 생성\n",
    "if not os.path.exists(file_path):\n",
    "    os.makedirs(file_path)\n",
    "\n",
    "# 리스트 파일로 저장\n",
    "with open(f'{file_path}x_train_seq_{seq_len}.pkl', 'wb') as file: # x_train\n",
    "    pickle.dump(X_train_seq, file)\n",
    "\n",
    "with open(f'{file_path}y_train_seq_{seq_len}.pkl', 'wb') as file: # y_train\n",
    "    pickle.dump(y_train_seq, file)\n",
    "\n",
    "with open(f'{file_path}x_test_seq_{seq_len}.pkl', 'wb') as file: # x_test\n",
    "    pickle.dump(X_test_seq, file)\n",
    "\n",
    "with open(f'{file_path}y_test_seq_{seq_len}.pkl', 'wb') as file: # y_test\n",
    "    pickle.dump(y_test_seq, file)\n",
    "\n",
    "print(f'{seq_len} sequence data export finished')"
   ]
  },
  {
   "cell_type": "code",
   "execution_count": 12,
   "metadata": {},
   "outputs": [],
   "source": [
    "# 불러오기\n",
    "with open(f'{file_path}x_train_seq_{seq_len}.pkl', 'rb') as file:\n",
    "     loaded_lst= pickle.load(file)"
   ]
  },
  {
   "cell_type": "code",
   "execution_count": null,
   "metadata": {},
   "outputs": [],
   "source": [
    "# Mac에서 돌리면 kernel 뻑남..\n",
    "# tmp_seq = []\n",
    "\n",
    "# # 가정: create_sequence 함수는 이미 정의되어 있으며, df 데이터프레임과 sequence_length 값을 입력으로 받음\n",
    "# sequence_lengths = [20, 40, 80, 160, 320]\n",
    "\n",
    "# # 리스트 컴프리헨션을 사용하여 각 sequence_length에 대한 결과의 길이 계산\n",
    "# tmp_seq = [len(create_sequence(df, length)) for length in sequence_lengths]\n",
    "\n",
    "# # 결과를 pandas DataFrame으로 변환\n",
    "# result_df = pd.DataFrame({\n",
    "#     'sequence_length': sequence_lengths,\n",
    "#     'length': tmp_seq\n",
    "# })\n",
    "\n",
    "# result_df"
   ]
  },
  {
   "cell_type": "code",
   "execution_count": null,
   "metadata": {},
   "outputs": [],
   "source": [
    "# data export\n",
    "#result_df.to_csv(file_path+'seq_data_counts.csv', index=False)"
   ]
  },
  {
   "cell_type": "code",
   "execution_count": 5,
   "metadata": {},
   "outputs": [],
   "source": [
    "import sequence"
   ]
  },
  {
   "cell_type": "code",
   "execution_count": 6,
   "metadata": {},
   "outputs": [
    {
     "name": "stdout",
     "output_type": "stream",
     "text": [
      "torch.Size([111077, 20, 77]) torch.Size([111077, 1])\n"
     ]
    }
   ],
   "source": [
    "X, y = sequence.create_sequence(df, 20)\n",
    "print(X.size(), y.size())"
   ]
  },
  {
   "cell_type": "code",
   "execution_count": null,
   "metadata": {},
   "outputs": [],
   "source": []
  }
 ],
 "metadata": {
  "kernelspec": {
   "display_name": "Python 3",
   "language": "python",
   "name": "python3"
  },
  "language_info": {
   "codemirror_mode": {
    "name": "ipython",
    "version": 3
   },
   "file_extension": ".py",
   "mimetype": "text/x-python",
   "name": "python",
   "nbconvert_exporter": "python",
   "pygments_lexer": "ipython3",
   "version": "3.8.18"
  }
 },
 "nbformat": 4,
 "nbformat_minor": 2
}

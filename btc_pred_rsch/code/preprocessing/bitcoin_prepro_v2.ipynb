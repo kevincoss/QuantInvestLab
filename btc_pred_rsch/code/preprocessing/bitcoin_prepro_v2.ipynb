{
 "cells": [
  {
   "cell_type": "markdown",
   "metadata": {},
   "source": [
    "### 비트코인 틱데이터 전처리 버전2\n",
    "- num_rows 적은 것들 제거 + 그에 해당하는 sequence_length 전부 삭제\n",
    "- num_rows = 5\n",
    "- inf에 해당하는 값 제거"
   ]
  },
  {
   "cell_type": "code",
   "execution_count": 2,
   "metadata": {},
   "outputs": [],
   "source": [
    "import pandas as pd\n",
    "import numpy as np"
   ]
  },
  {
   "cell_type": "code",
   "execution_count": 3,
   "metadata": {},
   "outputs": [
    {
     "data": {
      "text/plain": [
       "(151838, 84)"
      ]
     },
     "execution_count": 3,
     "metadata": {},
     "output_type": "execute_result"
    }
   ],
   "source": [
    "file_path = '../../data/'\n",
    "df = pd.read_csv(file_path + 'BTC_sum_both_30s_202303271051_v1.csv')\n",
    "df.shape"
   ]
  },
  {
   "cell_type": "code",
   "execution_count": 4,
   "metadata": {},
   "outputs": [
    {
     "data": {
      "text/html": [
       "<div>\n",
       "<style scoped>\n",
       "    .dataframe tbody tr th:only-of-type {\n",
       "        vertical-align: middle;\n",
       "    }\n",
       "\n",
       "    .dataframe tbody tr th {\n",
       "        vertical-align: top;\n",
       "    }\n",
       "\n",
       "    .dataframe thead th {\n",
       "        text-align: right;\n",
       "    }\n",
       "</style>\n",
       "<table border=\"1\" class=\"dataframe\">\n",
       "  <thead>\n",
       "    <tr style=\"text-align: right;\">\n",
       "      <th></th>\n",
       "      <th>num_rows</th>\n",
       "      <th>counts</th>\n",
       "      <th>proportion</th>\n",
       "    </tr>\n",
       "  </thead>\n",
       "  <tbody>\n",
       "    <tr>\n",
       "      <th>0</th>\n",
       "      <td>0</td>\n",
       "      <td>0</td>\n",
       "      <td>0.0</td>\n",
       "    </tr>\n",
       "    <tr>\n",
       "      <th>1</th>\n",
       "      <td>1</td>\n",
       "      <td>514</td>\n",
       "      <td>0.3</td>\n",
       "    </tr>\n",
       "    <tr>\n",
       "      <th>2</th>\n",
       "      <td>2</td>\n",
       "      <td>1411</td>\n",
       "      <td>0.9</td>\n",
       "    </tr>\n",
       "    <tr>\n",
       "      <th>3</th>\n",
       "      <td>3</td>\n",
       "      <td>2734</td>\n",
       "      <td>1.8</td>\n",
       "    </tr>\n",
       "    <tr>\n",
       "      <th>4</th>\n",
       "      <td>4</td>\n",
       "      <td>4465</td>\n",
       "      <td>2.9</td>\n",
       "    </tr>\n",
       "    <tr>\n",
       "      <th>5</th>\n",
       "      <td>5</td>\n",
       "      <td>6462</td>\n",
       "      <td>4.3</td>\n",
       "    </tr>\n",
       "    <tr>\n",
       "      <th>6</th>\n",
       "      <td>6</td>\n",
       "      <td>8817</td>\n",
       "      <td>5.8</td>\n",
       "    </tr>\n",
       "    <tr>\n",
       "      <th>7</th>\n",
       "      <td>7</td>\n",
       "      <td>11419</td>\n",
       "      <td>7.5</td>\n",
       "    </tr>\n",
       "    <tr>\n",
       "      <th>8</th>\n",
       "      <td>8</td>\n",
       "      <td>14307</td>\n",
       "      <td>9.4</td>\n",
       "    </tr>\n",
       "    <tr>\n",
       "      <th>9</th>\n",
       "      <td>9</td>\n",
       "      <td>17344</td>\n",
       "      <td>11.4</td>\n",
       "    </tr>\n",
       "  </tbody>\n",
       "</table>\n",
       "</div>"
      ],
      "text/plain": [
       "   num_rows  counts  proportion\n",
       "0         0       0         0.0\n",
       "1         1     514         0.3\n",
       "2         2    1411         0.9\n",
       "3         3    2734         1.8\n",
       "4         4    4465         2.9\n",
       "5         5    6462         4.3\n",
       "6         6    8817         5.8\n",
       "7         7   11419         7.5\n",
       "8         8   14307         9.4\n",
       "9         9   17344        11.4"
      ]
     },
     "execution_count": 4,
     "metadata": {},
     "output_type": "execute_result"
    }
   ],
   "source": [
    "# num_rows 컬럼의 값이 적은 것은 트레이드가 거의 없었다는 의미인데 이는 수집 과정에서 오류가 있었을 것 같기에 데이터 클리닝(제거) 작업이 필요하다.\n",
    "\n",
    "lst = [len(df[df['num_rows'] <= i]) for i in range(10)]\n",
    "\n",
    "num_rows_df = pd.DataFrame({\n",
    "    'num_rows' : range(10),\n",
    "    'counts' : lst,\n",
    "    'proportion' : np.round(np.array(lst) / len(df), 3) * 100\n",
    "})\n",
    "\n",
    "num_rows_df"
   ]
  },
  {
   "cell_type": "code",
   "execution_count": 6,
   "metadata": {},
   "outputs": [],
   "source": [
    "# 음수, 양수 무한대 값 출력 (음수 무한대 값은 없음을 확인)\n",
    "#df[df.isin([np.inf]).any(axis=1)]\n",
    "\n",
    "# 무한대에 해당하는 값 제거\n",
    "df.replace([np.inf, -np.inf], np.nan, inplace=True)\n",
    "df.dropna(inplace=True)"
   ]
  },
  {
   "cell_type": "code",
   "execution_count": 7,
   "metadata": {},
   "outputs": [],
   "source": [
    "# 전체 데이터의 4.3퍼센트에 해당하는 5개 이하에 해당하는 데이터 인덱스 Check\n",
    "num = 5\n",
    "\n",
    "# num_rows 값에 따라 0 또는 1의 값을 가지는 열 생성\n",
    "df['del_idx'] = df['num_rows'].apply(lambda x: 1 if x <= num else 0) # num 이하이면 1, 아니면 0\n"
   ]
  },
  {
   "cell_type": "code",
   "execution_count": 8,
   "metadata": {},
   "outputs": [],
   "source": [
    "# 데이터 내보내기\n",
    "#df.to_csv(f'{file_path}bitcoin_data_num_rows_gt_{num}.csv', index=False)"
   ]
  },
  {
   "cell_type": "code",
   "execution_count": 5,
   "metadata": {},
   "outputs": [
    {
     "name": "stdout",
     "output_type": "stream",
     "text": [
      "가장 긴 공백의 시작: 2022-12-21 23:48:00, 끝: 2022-12-22 06:20:00, 길이: 0 days 06:32:00\n"
     ]
    },
    {
     "name": "stderr",
     "output_type": "stream",
     "text": [
      "/var/folders/yd/1_xwcyjj6z58p2vptxk1dwvm0000gn/T/ipykernel_84973/4123251106.py:4: SettingWithCopyWarning: \n",
      "A value is trying to be set on a copy of a slice from a DataFrame.\n",
      "Try using .loc[row_indexer,col_indexer] = value instead\n",
      "\n",
      "See the caveats in the documentation: https://pandas.pydata.org/pandas-docs/stable/user_guide/indexing.html#returning-a-view-versus-a-copy\n",
      "  new_df['window_start'] = pd.to_datetime(new_df['window_start'], format='%Y-%m-%d %H:%M:%S')\n",
      "/var/folders/yd/1_xwcyjj6z58p2vptxk1dwvm0000gn/T/ipykernel_84973/4123251106.py:7: SettingWithCopyWarning: \n",
      "A value is trying to be set on a copy of a slice from a DataFrame.\n",
      "Try using .loc[row_indexer,col_indexer] = value instead\n",
      "\n",
      "See the caveats in the documentation: https://pandas.pydata.org/pandas-docs/stable/user_guide/indexing.html#returning-a-view-versus-a-copy\n",
      "  new_df['time_diff'] = new_df['window_start'].diff()\n"
     ]
    }
   ],
   "source": [
    "# 삭제된(즉, 수집 과정에서 오류가 있었던) 데이터가 특정 시점에 몰려있는지 확인 -> 몰려 있다면 코드 문제가 아닌 그 당시에 네트워크, 서버, 그 외 요인이 작용했을 확률이 높다.\n",
    "\n",
    "# datetime으로 변환\n",
    "new_df['window_start'] = pd.to_datetime(new_df['window_start'], format='%Y-%m-%d %H:%M:%S')\n",
    "\n",
    "# 데이터 포인트 사이의 시간 차이 계산 (수정된 부분)\n",
    "new_df['time_diff'] = new_df['window_start'].diff()\n",
    "\n",
    "# 데이터프레임의 인덱스를 재설정\n",
    "new_df.reset_index(drop=True, inplace=True)\n",
    "\n",
    "# 가장 긴 공백 찾기\n",
    "max_gap_index = new_df['time_diff'].idxmax()\n",
    "\n",
    "# 안전한 인덱스 접근을 위한 조건 추가\n",
    "if max_gap_index > 0 and max_gap_index < len(new_df):\n",
    "    max_gap_value = new_df.loc[max_gap_index, 'time_diff']\n",
    "    max_gap_start = new_df.loc[max_gap_index - 1, 'window_start']\n",
    "    max_gap_end = new_df.loc[max_gap_index, 'window_start']\n",
    "else:\n",
    "    max_gap_value = None\n",
    "    max_gap_start = None\n",
    "    max_gap_end = None\n",
    "\n",
    "# 결과 출력\n",
    "print(f\"가장 긴 공백의 시작: {max_gap_start}, 끝: {max_gap_end}, 길이: {max_gap_value}\")\n"
   ]
  },
  {
   "cell_type": "code",
   "execution_count": 6,
   "metadata": {},
   "outputs": [
    {
     "data": {
      "text/plain": [
       "784.0"
      ]
     },
     "execution_count": 6,
     "metadata": {},
     "output_type": "execute_result"
    }
   ],
   "source": [
    "# 6시간 32분을 초 단위로 환산\n",
    "total_seconds = (6 * 60 * 60) + (32 * 60)\n",
    "\n",
    "# 30초로 나누기\n",
    "result = total_seconds / 30\n",
    "\n",
    "result"
   ]
  }
 ],
 "metadata": {
  "kernelspec": {
   "display_name": "Python 3",
   "language": "python",
   "name": "python3"
  },
  "language_info": {
   "codemirror_mode": {
    "name": "ipython",
    "version": 3
   },
   "file_extension": ".py",
   "mimetype": "text/x-python",
   "name": "python",
   "nbconvert_exporter": "python",
   "pygments_lexer": "ipython3",
   "version": "3.8.18"
  }
 },
 "nbformat": 4,
 "nbformat_minor": 2
}

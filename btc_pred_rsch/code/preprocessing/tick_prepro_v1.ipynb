{
 "cells": [
  {
   "cell_type": "markdown",
   "metadata": {},
   "source": [
    "### Raw 비트코인 데이터 전처리\n",
    "- Object\n",
    "    - 1분 단위로 전처리\n",
    "    - 여러 파생변수(indicator) 생성\n",
    "\n",
    "<br>\n",
    "\n",
    "- python version: 3.8.18"
   ]
  },
  {
   "cell_type": "markdown",
   "metadata": {},
   "source": [
    "#### 1) raw 데이터 불러와 bitcoin 데이터만 추출 후 저장"
   ]
  },
  {
   "cell_type": "code",
   "execution_count": 1,
   "metadata": {},
   "outputs": [],
   "source": [
    "import dask.dataframe as dd\n",
    "import gc # 가비지 컬렉터 모듈"
   ]
  },
  {
   "cell_type": "code",
   "execution_count": 2,
   "metadata": {},
   "outputs": [],
   "source": [
    "# set csv file path\n",
    "file_path = '../data/'\n",
    "\n",
    "# set type of each columns\n",
    "dtype={'code': 'object',\n",
    "       'ask_bid': 'object',\n",
    "       'change': 'object',\n",
    "       'highest_52_week_date': 'object',\n",
    "       'lowest_52_week_date': 'object',\n",
    "       'market_state': 'object',\n",
    "       'market_warning': 'object',\n",
    "       'orderbook_ap_0': 'float32',\n",
    "       'orderbook_ap_1': 'float32',\n",
    "       'orderbook_ap_2': 'float32',\n",
    "       'orderbook_ap_3': 'float32',\n",
    "       'orderbook_bp_0': 'float32',\n",
    "       'orderbook_bp_1': 'float32',\n",
    "       'orderbook_bp_10': 'float32',\n",
    "       'orderbook_bp_11': 'float32',\n",
    "       'orderbook_bp_12': 'float32',\n",
    "       'orderbook_bp_13': 'float32',\n",
    "       'orderbook_bp_14': 'float32',\n",
    "       'orderbook_bp_2': 'float32',\n",
    "       'orderbook_bp_3': 'float32',\n",
    "       'orderbook_bp_4': 'float32',\n",
    "       'orderbook_bp_5': 'float32',\n",
    "       'orderbook_bp_6': 'float32',\n",
    "       'orderbook_bp_7': 'float32',\n",
    "       'orderbook_bp_8': 'float32',\n",
    "       'orderbook_bp_9': 'float32',\n",
    "       'stream_type': 'object',\n",
    "       'trade_time': 'object'}\n",
    "\n",
    "# read csv file using Dask DataFrame\n",
    "df = dd.read_csv(f'{file_path}ticker_data_202302230905.csv', dtype=dtype)"
   ]
  },
  {
   "cell_type": "code",
   "execution_count": 3,
   "metadata": {},
   "outputs": [
    {
     "name": "stderr",
     "output_type": "stream",
     "text": [
      "/opt/homebrew/lib/python3.8/site-packages/dask/dataframe/io/csv.py:193: DtypeWarning: Columns (29) have mixed types. Specify dtype option on import or set low_memory=False.\n",
      "  df = reader(bio, **kwargs)\n"
     ]
    },
    {
     "name": "stdout",
     "output_type": "stream",
     "text": [
      "79238904\n"
     ]
    }
   ],
   "source": [
    "# df의 행 갯수: 79,238,904 -> 5분 소요\n",
    "row_count = df['code'].count().compute()\n",
    "print(row_count)"
   ]
  },
  {
   "cell_type": "code",
   "execution_count": 4,
   "metadata": {},
   "outputs": [
    {
     "name": "stdout",
     "output_type": "stream",
     "text": [
      "Index(['type_websocket', 'datetime', 'code', 'opening_price', 'high_price',\n",
      "       'low_price', 'trade_price', 'prev_closing_price', 'change',\n",
      "       'change_price', 'signed_change_price', 'change_rate',\n",
      "       'signed_change_rate', 'trade_volume', 'acc_trade_volume',\n",
      "       'acc_trade_volume_24h', 'acc_trade_price', 'acc_trade_price_24h',\n",
      "       'trade_date', 'trade_time', 'trade_timestamp', 'ask_bid',\n",
      "       'acc_ask_volume', 'acc_bid_volume', 'highest_52_week_price',\n",
      "       'highest_52_week_date', 'lowest_52_week_price', 'lowest_52_week_date',\n",
      "       'market_state', 'is_trading_suspended', 'delisting_date',\n",
      "       'market_warning', 'timestamp', 'stream_type', 'sys_datetime',\n",
      "       'sequential_id', 'total_ask_size', 'total_bid_size', 'orderbook_ap_0',\n",
      "       'orderbook_as_0', 'orderbook_bp_0', 'orderbook_bs_0', 'orderbook_ap_1',\n",
      "       'orderbook_as_1', 'orderbook_bp_1', 'orderbook_bs_1', 'orderbook_ap_2',\n",
      "       'orderbook_as_2', 'orderbook_bp_2', 'orderbook_bs_2', 'orderbook_ap_3',\n",
      "       'orderbook_as_3', 'orderbook_bp_3', 'orderbook_bs_3', 'orderbook_ap_4',\n",
      "       'orderbook_as_4', 'orderbook_bp_4', 'orderbook_bs_4', 'orderbook_ap_5',\n",
      "       'orderbook_as_5', 'orderbook_bp_5', 'orderbook_bs_5', 'orderbook_ap_6',\n",
      "       'orderbook_as_6', 'orderbook_bp_6', 'orderbook_bs_6', 'orderbook_ap_7',\n",
      "       'orderbook_as_7', 'orderbook_bp_7', 'orderbook_bs_7', 'orderbook_ap_8',\n",
      "       'orderbook_as_8', 'orderbook_bp_8', 'orderbook_bs_8', 'orderbook_ap_9',\n",
      "       'orderbook_as_9', 'orderbook_bp_9', 'orderbook_bs_9', 'orderbook_ap_10',\n",
      "       'orderbook_as_10', 'orderbook_bp_10', 'orderbook_bs_10',\n",
      "       'orderbook_ap_11', 'orderbook_as_11', 'orderbook_bp_11',\n",
      "       'orderbook_bs_11', 'orderbook_ap_12', 'orderbook_as_12',\n",
      "       'orderbook_bp_12', 'orderbook_bs_12', 'orderbook_ap_13',\n",
      "       'orderbook_as_13', 'orderbook_bp_13', 'orderbook_bs_13',\n",
      "       'orderbook_ap_14', 'orderbook_as_14', 'orderbook_bp_14',\n",
      "       'orderbook_bs_14'],\n",
      "      dtype='object')\n"
     ]
    }
   ],
   "source": [
    "print(df.columns)"
   ]
  },
  {
   "cell_type": "code",
   "execution_count": 4,
   "metadata": {},
   "outputs": [
    {
     "data": {
      "text/html": [
       "<div>\n",
       "<style scoped>\n",
       "    .dataframe tbody tr th:only-of-type {\n",
       "        vertical-align: middle;\n",
       "    }\n",
       "\n",
       "    .dataframe tbody tr th {\n",
       "        vertical-align: top;\n",
       "    }\n",
       "\n",
       "    .dataframe thead th {\n",
       "        text-align: right;\n",
       "    }\n",
       "</style>\n",
       "<table border=\"1\" class=\"dataframe\">\n",
       "  <thead>\n",
       "    <tr style=\"text-align: right;\">\n",
       "      <th></th>\n",
       "      <th>type_websocket</th>\n",
       "      <th>datetime</th>\n",
       "      <th>code</th>\n",
       "      <th>opening_price</th>\n",
       "      <th>high_price</th>\n",
       "      <th>low_price</th>\n",
       "      <th>trade_price</th>\n",
       "      <th>prev_closing_price</th>\n",
       "      <th>change</th>\n",
       "      <th>change_price</th>\n",
       "      <th>...</th>\n",
       "      <th>orderbook_bp_12</th>\n",
       "      <th>orderbook_bs_12</th>\n",
       "      <th>orderbook_ap_13</th>\n",
       "      <th>orderbook_as_13</th>\n",
       "      <th>orderbook_bp_13</th>\n",
       "      <th>orderbook_bs_13</th>\n",
       "      <th>orderbook_ap_14</th>\n",
       "      <th>orderbook_as_14</th>\n",
       "      <th>orderbook_bp_14</th>\n",
       "      <th>orderbook_bs_14</th>\n",
       "    </tr>\n",
       "  </thead>\n",
       "  <tbody>\n",
       "    <tr>\n",
       "      <th>0</th>\n",
       "      <td>orderbook</td>\n",
       "      <td>2023-01-21 20:33:43.000</td>\n",
       "      <td>KRW-BTC</td>\n",
       "      <td>NaN</td>\n",
       "      <td>NaN</td>\n",
       "      <td>NaN</td>\n",
       "      <td>NaN</td>\n",
       "      <td>NaN</td>\n",
       "      <td>NaN</td>\n",
       "      <td>NaN</td>\n",
       "      <td>...</td>\n",
       "      <td>28519000.0</td>\n",
       "      <td>1.070351e+00</td>\n",
       "      <td>28583000.0</td>\n",
       "      <td>1.492000e-01</td>\n",
       "      <td>2.851800e+07</td>\n",
       "      <td>0.673184</td>\n",
       "      <td>28589000.0</td>\n",
       "      <td>1.662000e+00</td>\n",
       "      <td>2.851700e+07</td>\n",
       "      <td>0.054144</td>\n",
       "    </tr>\n",
       "    <tr>\n",
       "      <th>1</th>\n",
       "      <td>orderbook</td>\n",
       "      <td>2023-01-21 20:33:43.000</td>\n",
       "      <td>KRW-DOGE</td>\n",
       "      <td>NaN</td>\n",
       "      <td>NaN</td>\n",
       "      <td>NaN</td>\n",
       "      <td>NaN</td>\n",
       "      <td>NaN</td>\n",
       "      <td>NaN</td>\n",
       "      <td>NaN</td>\n",
       "      <td>...</td>\n",
       "      <td>99.5</td>\n",
       "      <td>1.109093e+06</td>\n",
       "      <td>121.0</td>\n",
       "      <td>3.595741e+06</td>\n",
       "      <td>9.940000e+01</td>\n",
       "      <td>284313.023536</td>\n",
       "      <td>122.0</td>\n",
       "      <td>4.639535e+06</td>\n",
       "      <td>9.930000e+01</td>\n",
       "      <td>429743.926727</td>\n",
       "    </tr>\n",
       "    <tr>\n",
       "      <th>2</th>\n",
       "      <td>orderbook</td>\n",
       "      <td>2023-01-21 20:33:43.000</td>\n",
       "      <td>KRW-BTC</td>\n",
       "      <td>NaN</td>\n",
       "      <td>NaN</td>\n",
       "      <td>NaN</td>\n",
       "      <td>NaN</td>\n",
       "      <td>NaN</td>\n",
       "      <td>NaN</td>\n",
       "      <td>NaN</td>\n",
       "      <td>...</td>\n",
       "      <td>28519000.0</td>\n",
       "      <td>1.070351e+00</td>\n",
       "      <td>28583000.0</td>\n",
       "      <td>1.492000e-01</td>\n",
       "      <td>2.851800e+07</td>\n",
       "      <td>0.673184</td>\n",
       "      <td>28589000.0</td>\n",
       "      <td>1.662000e+00</td>\n",
       "      <td>2.851700e+07</td>\n",
       "      <td>0.054144</td>\n",
       "    </tr>\n",
       "    <tr>\n",
       "      <th>3</th>\n",
       "      <td>orderbook</td>\n",
       "      <td>2023-01-21 20:33:43.000</td>\n",
       "      <td>KRW-XRP</td>\n",
       "      <td>NaN</td>\n",
       "      <td>NaN</td>\n",
       "      <td>NaN</td>\n",
       "      <td>NaN</td>\n",
       "      <td>NaN</td>\n",
       "      <td>NaN</td>\n",
       "      <td>NaN</td>\n",
       "      <td>...</td>\n",
       "      <td>497.0</td>\n",
       "      <td>3.528720e+05</td>\n",
       "      <td>523.0</td>\n",
       "      <td>2.506845e+05</td>\n",
       "      <td>4.960000e+02</td>\n",
       "      <td>545004.723688</td>\n",
       "      <td>524.0</td>\n",
       "      <td>9.915758e+05</td>\n",
       "      <td>4.950000e+02</td>\n",
       "      <td>442778.375664</td>\n",
       "    </tr>\n",
       "    <tr>\n",
       "      <th>4</th>\n",
       "      <td>orderbook</td>\n",
       "      <td>2023-01-21 20:33:44.000</td>\n",
       "      <td>KRW-XRP</td>\n",
       "      <td>NaN</td>\n",
       "      <td>NaN</td>\n",
       "      <td>NaN</td>\n",
       "      <td>NaN</td>\n",
       "      <td>NaN</td>\n",
       "      <td>NaN</td>\n",
       "      <td>NaN</td>\n",
       "      <td>...</td>\n",
       "      <td>497.0</td>\n",
       "      <td>3.528720e+05</td>\n",
       "      <td>523.0</td>\n",
       "      <td>2.506845e+05</td>\n",
       "      <td>4.960000e+02</td>\n",
       "      <td>545004.723688</td>\n",
       "      <td>524.0</td>\n",
       "      <td>9.915758e+05</td>\n",
       "      <td>4.950000e+02</td>\n",
       "      <td>442778.375664</td>\n",
       "    </tr>\n",
       "  </tbody>\n",
       "</table>\n",
       "<p>5 rows × 98 columns</p>\n",
       "</div>"
      ],
      "text/plain": [
       "  type_websocket                 datetime      code  opening_price  \\\n",
       "0      orderbook  2023-01-21 20:33:43.000   KRW-BTC            NaN   \n",
       "1      orderbook  2023-01-21 20:33:43.000  KRW-DOGE            NaN   \n",
       "2      orderbook  2023-01-21 20:33:43.000   KRW-BTC            NaN   \n",
       "3      orderbook  2023-01-21 20:33:43.000   KRW-XRP            NaN   \n",
       "4      orderbook  2023-01-21 20:33:44.000   KRW-XRP            NaN   \n",
       "\n",
       "   high_price  low_price  trade_price  prev_closing_price change  \\\n",
       "0         NaN        NaN          NaN                 NaN    NaN   \n",
       "1         NaN        NaN          NaN                 NaN    NaN   \n",
       "2         NaN        NaN          NaN                 NaN    NaN   \n",
       "3         NaN        NaN          NaN                 NaN    NaN   \n",
       "4         NaN        NaN          NaN                 NaN    NaN   \n",
       "\n",
       "   change_price  ...  orderbook_bp_12  orderbook_bs_12  orderbook_ap_13  \\\n",
       "0           NaN  ...       28519000.0     1.070351e+00       28583000.0   \n",
       "1           NaN  ...             99.5     1.109093e+06            121.0   \n",
       "2           NaN  ...       28519000.0     1.070351e+00       28583000.0   \n",
       "3           NaN  ...            497.0     3.528720e+05            523.0   \n",
       "4           NaN  ...            497.0     3.528720e+05            523.0   \n",
       "\n",
       "   orderbook_as_13  orderbook_bp_13  orderbook_bs_13  orderbook_ap_14  \\\n",
       "0     1.492000e-01     2.851800e+07         0.673184       28589000.0   \n",
       "1     3.595741e+06     9.940000e+01    284313.023536            122.0   \n",
       "2     1.492000e-01     2.851800e+07         0.673184       28589000.0   \n",
       "3     2.506845e+05     4.960000e+02    545004.723688            524.0   \n",
       "4     2.506845e+05     4.960000e+02    545004.723688            524.0   \n",
       "\n",
       "   orderbook_as_14  orderbook_bp_14 orderbook_bs_14  \n",
       "0     1.662000e+00     2.851700e+07        0.054144  \n",
       "1     4.639535e+06     9.930000e+01   429743.926727  \n",
       "2     1.662000e+00     2.851700e+07        0.054144  \n",
       "3     9.915758e+05     4.950000e+02   442778.375664  \n",
       "4     9.915758e+05     4.950000e+02   442778.375664  \n",
       "\n",
       "[5 rows x 98 columns]"
      ]
     },
     "execution_count": 4,
     "metadata": {},
     "output_type": "execute_result"
    }
   ],
   "source": [
    "df.head()"
   ]
  },
  {
   "cell_type": "code",
   "execution_count": 5,
   "metadata": {},
   "outputs": [
    {
     "name": "stderr",
     "output_type": "stream",
     "text": [
      "/opt/homebrew/lib/python3.8/site-packages/dask/dataframe/io/csv.py:193: DtypeWarning: Columns (29) have mixed types. Specify dtype option on import or set low_memory=False.\n",
      "  df = reader(bio, **kwargs)\n"
     ]
    },
    {
     "name": "stdout",
     "output_type": "stream",
     "text": [
      "0     KRW-BTC\n",
      "1    KRW-DOGE\n",
      "2     KRW-XRP\n",
      "3     KRW-ETH\n",
      "Name: code, dtype: object\n"
     ]
    }
   ],
   "source": [
    "#-> 코드 작업에 5분 소요\n",
    "unique_codes = df['code'].unique().compute()\n",
    "print(unique_codes)"
   ]
  },
  {
   "cell_type": "code",
   "execution_count": 6,
   "metadata": {},
   "outputs": [
    {
     "data": {
      "text/plain": [
       "478"
      ]
     },
     "execution_count": 6,
     "metadata": {},
     "output_type": "execute_result"
    }
   ],
   "source": [
    "#-> 코드 작업에 20분정도 소요(dtype다 지정해주면 더 빨라질지도?)\n",
    "# 'code' 컬럼이 'KRW-BTC'에 해당하는 행만 필터링\n",
    "bitcoin_df = df[df['code'] == \"KRW-BTC\"]\n",
    "\n",
    "# 이전 DataFrame(df)의 참조를 제거하여 메모리 해제 요청 \n",
    "del df\n",
    "gc.collect()\n",
    "\n",
    "# extract bitcoin data\n",
    "#bitcoin_df.to_csv(f'{file_path}bitcoin_tick_data.csv', index=False)"
   ]
  },
  {
   "cell_type": "code",
   "execution_count": 7,
   "metadata": {},
   "outputs": [
    {
     "name": "stderr",
     "output_type": "stream",
     "text": [
      "/opt/homebrew/lib/python3.8/site-packages/dask/dataframe/io/csv.py:193: DtypeWarning: Columns (29) have mixed types. Specify dtype option on import or set low_memory=False.\n",
      "  df = reader(bio, **kwargs)\n"
     ]
    },
    {
     "name": "stdout",
     "output_type": "stream",
     "text": [
      "30170280\n"
     ]
    }
   ],
   "source": [
    "# bitcoin_df의 행 갯수: 30,170,280 -> 5분 소요\n",
    "row_count = bitcoin_df['code'].count().compute()\n",
    "print(row_count)"
   ]
  },
  {
   "cell_type": "code",
   "execution_count": 8,
   "metadata": {},
   "outputs": [
    {
     "data": {
      "text/plain": [
       "0"
      ]
     },
     "execution_count": 8,
     "metadata": {},
     "output_type": "execute_result"
    }
   ],
   "source": [
    "# 이전 DataFrame(df)의 참조를 제거하여 메모리 해제 요청 \n",
    "del bitcoin_df\n",
    "gc.collect()"
   ]
  },
  {
   "cell_type": "markdown",
   "metadata": {},
   "source": [
    "#### 2) 추출된 bitcoin 데이터 불러와 duplicates 제거 및 30/60초 ticker 값 제거"
   ]
  },
  {
   "cell_type": "code",
   "execution_count": null,
   "metadata": {},
   "outputs": [],
   "source": [
    "import dask.dataframe as dd\n",
    "import gc # 가비지 컬렉터 모듈"
   ]
  },
  {
   "cell_type": "code",
   "execution_count": 11,
   "metadata": {},
   "outputs": [],
   "source": [
    "# set csv file path\n",
    "file_path = '../data/bitcoin_tick_data/'\n",
    "\n",
    "# set type of each columns\n",
    "dtype={'code': 'object',\n",
    "       'ask_bid': 'object',\n",
    "       'change': 'object',\n",
    "       'highest_52_week_date': 'object',\n",
    "       'lowest_52_week_date': 'object',\n",
    "       'market_state': 'object',\n",
    "       'market_warning': 'object',\n",
    "       'orderbook_ap_0': 'float32',\n",
    "       'orderbook_ap_1': 'float32',\n",
    "       'orderbook_ap_2': 'float32',\n",
    "       'orderbook_ap_3': 'float32',\n",
    "       'orderbook_bp_0': 'float32',\n",
    "       'orderbook_bp_1': 'float32',\n",
    "       'orderbook_bp_10': 'float32',\n",
    "       'orderbook_bp_11': 'float32',\n",
    "       'orderbook_bp_12': 'float32',\n",
    "       'orderbook_bp_13': 'float32',\n",
    "       'orderbook_bp_14': 'float32',\n",
    "       'orderbook_bp_2': 'float32',\n",
    "       'orderbook_bp_3': 'float32',\n",
    "       'orderbook_bp_4': 'float32',\n",
    "       'orderbook_bp_5': 'float32',\n",
    "       'orderbook_bp_6': 'float32',\n",
    "       'orderbook_bp_7': 'float32',\n",
    "       'orderbook_bp_8': 'float32',\n",
    "       'orderbook_bp_9': 'float32',\n",
    "       'stream_type': 'object',\n",
    "       'trade_time': 'object'}\n",
    "\n",
    "# read csv file using Dask DataFrame\n",
    "df = dd.read_csv(f'{file_path}*.part', dtype=dtype)\n",
    "#df = df.compute() # pandas df 형태로 반환. 메모리가 부족할 경우 추천하지 않음."
   ]
  },
  {
   "cell_type": "code",
   "execution_count": 14,
   "metadata": {},
   "outputs": [
    {
     "name": "stderr",
     "output_type": "stream",
     "text": [
      "/opt/homebrew/lib/python3.8/site-packages/dask/dataframe/io/csv.py:193: DtypeWarning: Columns (29) have mixed types. Specify dtype option on import or set low_memory=False.\n",
      "  df = reader(bio, **kwargs)\n"
     ]
    },
    {
     "name": "stdout",
     "output_type": "stream",
     "text": [
      "df.shape 1 : 30170280\n"
     ]
    },
    {
     "name": "stderr",
     "output_type": "stream",
     "text": [
      "/opt/homebrew/lib/python3.8/site-packages/dask/dataframe/io/csv.py:193: DtypeWarning: Columns (29) have mixed types. Specify dtype option on import or set low_memory=False.\n",
      "  df = reader(bio, **kwargs)\n"
     ]
    },
    {
     "ename": "",
     "evalue": "",
     "output_type": "error",
     "traceback": [
      "\u001b[1;31mThe Kernel crashed while executing code in the the current cell or a previous cell. Please review the code in the cell(s) to identify a possible cause of the failure. Click <a href='https://aka.ms/vscodeJupyterKernelCrash'>here</a> for more info. View Jupyter <a href='command:jupyter.viewOutput'>log</a> for further details."
     ]
    }
   ],
   "source": [
    "### Drop dupli\n",
    "# 중복 제거 전 DataFrame의 행 길이 확인\n",
    "print(\"df.shape 1 :\", df.shape[0].compute())\n",
    "\n",
    "# 첫 번째 중복 제거\n",
    "df = df.drop_duplicates(subset=['type_websocket', 'timestamp', 'sys_datetime'], keep='first')\n",
    "# 중복 제거 후 DataFrame의 행 길이 확인\n",
    "print(\"df.shape 2 :\", df.shape[0].compute())\n",
    "\n",
    "# 두 번째 중복 제거\n",
    "df = df.drop_duplicates(subset=['type_websocket', 'opening_price', 'high_price', 'low_price', 'trade_price', 'prev_closing_price', 'change', 'change_price', 'signed_change_price', 'change_rate', 'signed_change_rate', 'trade_volume', 'acc_trade_volume', 'acc_trade_price', 'trade_date', 'ask_bid', 'acc_ask_volume', 'acc_bid_volume', 'highest_52_week_price', 'highest_52_week_date', 'lowest_52_week_price', 'lowest_52_week_date', 'market_state', 'is_trading_suspended', 'total_ask_size', 'total_bid_size', 'orderbook_ap_0', 'orderbook_as_0', 'orderbook_bp_0', 'orderbook_bs_0', 'orderbook_ap_1', 'orderbook_as_1', 'orderbook_bp_1', 'orderbook_bs_1', 'orderbook_ap_2', 'orderbook_as_2', 'orderbook_bp_2', 'orderbook_bs_2', 'orderbook_ap_3', 'orderbook_as_3', 'orderbook_bp_3', 'orderbook_bs_3', 'orderbook_ap_4', 'orderbook_as_4', 'orderbook_bp_4', 'orderbook_bs_4', 'orderbook_ap_5', 'orderbook_as_5', 'orderbook_bp_5', 'orderbook_bs_5', 'orderbook_ap_6', 'orderbook_as_6', 'orderbook_bp_6', 'orderbook_bs_6', 'orderbook_ap_7', 'orderbook_as_7', 'orderbook_bp_7', 'orderbook_bs_7', 'orderbook_ap_8', 'orderbook_as_8', 'orderbook_bp_8', 'orderbook_bs_8', 'orderbook_ap_9', 'orderbook_as_9', 'orderbook_bp_9', 'orderbook_bs_9', 'orderbook_ap_10', 'orderbook_as_10', 'orderbook_bp_10', 'orderbook_bs_10', 'orderbook_ap_11', 'orderbook_as_11', 'orderbook_bp_11', 'orderbook_bs_11', 'orderbook_ap_12', 'orderbook_as_12', 'orderbook_bp_12', 'orderbook_bs_12', 'orderbook_ap_13', 'orderbook_as_13', 'orderbook_bp_13', 'orderbook_bs_13', 'orderbook_ap_14', 'orderbook_as_14', 'orderbook_bp_14', 'orderbook_bs_14'], keep='first')\n",
    "# 최종 중복 제거 후 DataFrame의 행 길이 확인\n",
    "print(\"df.shape 3 :\", df.shape[0].compute())\n"
   ]
  },
  {
   "cell_type": "code",
   "execution_count": null,
   "metadata": {},
   "outputs": [],
   "source": []
  }
 ],
 "metadata": {
  "kernelspec": {
   "display_name": "Python 3",
   "language": "python",
   "name": "python3"
  },
  "language_info": {
   "codemirror_mode": {
    "name": "ipython",
    "version": 3
   },
   "file_extension": ".py",
   "mimetype": "text/x-python",
   "name": "python",
   "nbconvert_exporter": "python",
   "pygments_lexer": "ipython3",
   "version": "3.8.18"
  }
 },
 "nbformat": 4,
 "nbformat_minor": 2
}

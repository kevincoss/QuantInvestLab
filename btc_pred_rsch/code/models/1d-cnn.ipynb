{
 "cells": [
  {
   "cell_type": "markdown",
   "metadata": {},
   "source": [
    "### 1. Library 불러오기, SEE 설정, CUDA 사용"
   ]
  },
  {
   "cell_type": "code",
   "execution_count": 1,
   "metadata": {},
   "outputs": [
    {
     "name": "stdout",
     "output_type": "stream",
     "text": [
      "mps 사용 가능 여부: True\n",
      "mps 지원 환경 여부: True\n",
      "mps is available\n"
     ]
    }
   ],
   "source": [
    "# 필요 라이브러리 import\n",
    "\n",
    "# Pytorch\n",
    "import torch\n",
    "import torch.optim as optim\n",
    "import torch.nn as nn\n",
    "\n",
    "# Dataset 관련\n",
    "import numpy as np\n",
    "import pandas as pd\n",
    "from torch.utils.data import DataLoader, TensorDataset\n",
    "from sklearn.preprocessing import MinMaxScaler\n",
    "import sequence as sq\n",
    "\n",
    "# 성능 평가 관련\n",
    "from sklearn.metrics import precision_score, recall_score, f1_score, accuracy_score\n",
    "from sklearn.metrics import confusion_matrix\n",
    "\n",
    "# Visualization 관련\n",
    "import matplotlib.pyplot as plt\n",
    "import seaborn as sns\n",
    "\n",
    "\n",
    "'''\n",
    "딥러닝 학습을 진행할 때, 가중치를 임의의 값으로 초기화하여 학습을 수행하는 데, \n",
    "실험을 동일하게 진행하기 위해서는 난수를 동일하게 생성해야 한다.\n",
    "Pytorch에서 random seed를 고정하기 위해 manual_seed를 사용한다.\n",
    "'''\n",
    "\n",
    "RANDOM_SEED = 42\n",
    "np.random.seed(RANDOM_SEED)\n",
    "torch.manual_seed(RANDOM_SEED)\n",
    "\n",
    "# 맥북 용\n",
    "# GPU 사용 가능 환경인지 확인 -> mac의 경우 GPU가 아는 MPS를 사용\n",
    "print(f\"mps 사용 가능 여부: {torch.backends.mps.is_available()}\")\n",
    "print(f\"mps 지원 환경 여부: {torch.backends.mps.is_built()}\")\n",
    "device = torch.device(\"mps\")\n",
    "\n",
    "# 윈도우 용(Colab)\n",
    "#device = torch.device(\"cuda:0\" if torch.cuda.is_available() else \"cpu\")\n",
    "print(f'{device} is available')\n"
   ]
  },
  {
   "cell_type": "markdown",
   "metadata": {},
   "source": [
    "### 2. 데이터 불러오기 및 전처리 (Binary, Scale, Tensor, train&valid&test split)"
   ]
  },
  {
   "cell_type": "code",
   "execution_count": 39,
   "metadata": {},
   "outputs": [
    {
     "name": "stdout",
     "output_type": "stream",
     "text": [
      "Full Data Size: torch.Size([707, 20, 77]) torch.Size([707, 1])\n",
      "Train Size: torch.Size([424, 20, 77]) torch.Size([424, 1])\n",
      "Valid Size: torch.Size([141, 20, 77]) torch.Size([141, 1])\n",
      "Test Size: torch.Size([142, 20, 77]) torch.Size([142, 1])\n"
     ]
    }
   ],
   "source": [
    "# 데이터 불러오기\n",
    "file_path = '../../data/' # for mac\n",
    "df = pd.read_csv(file_path + 'bitcoin_data_num_rows_gt_5.csv')\n",
    "df = df.iloc[:1000]\n",
    "df['returns_next10m'] = df['returns_next10m'].apply(lambda x: 0 if x <= 0 else 1) # 종속변수 이진분류화\n",
    "df = df.sort_values(by='window_start', ascending=True) # 시간순 정렬\n",
    "\n",
    "# sequence length를 기준으로 sequence 데이터 생성\n",
    "X, y = sq.create_sequence(df, seq_len=20)\n",
    "# Tensor화\n",
    "X = torch.FloatTensor(X).to(device)\n",
    "y = torch.FloatTensor(y).to(device)\n",
    "print('Full Data Size:', X.size(), y.size())\n",
    "\n",
    "# split (60% / 20% / 20%)\n",
    "train_split = int((X.size(0)) * 0.6)\n",
    "valid_split = int((X.size(0)) * 0.8)\n",
    "\n",
    "X_train_seq = X[:train_split]\n",
    "X_val_seq = X[train_split:valid_split]\n",
    "X_test_seq = X[valid_split:]\n",
    "y_train_seq = y[:train_split]\n",
    "y_val_seq = y[train_split:valid_split]\n",
    "y_test_seq = y[valid_split:]\n",
    "\n",
    "print('Train Size:', X_train_seq.size(), y_train_seq.size())\n",
    "print('Valid Size:', X_val_seq.size(), y_val_seq.size())\n",
    "print('Test Size:', X_test_seq.size(), y_test_seq.size())\n"
   ]
  },
  {
   "cell_type": "code",
   "execution_count": 40,
   "metadata": {},
   "outputs": [],
   "source": [
    "# Dataset과 DataLoader를 이용해 배치 데이터로 만든다.\n",
    "train = torch.utils.data.TensorDataset(X_train_seq, y_train_seq)\n",
    "valid = torch.utils.data.TensorDataset(X_val_seq, y_val_seq)\n",
    "test = torch.utils.data.TensorDataset(X_test_seq, y_test_seq)\n",
    "batch_size = 32 # 64, 128\n",
    "train_loader =  torch.utils.data.DataLoader(dataset=train, batch_size=batch_size, shuffle=False, drop_last=True) # 시계열 데이터기에 shuffle X, 마지막 batch 버림\n",
    "valid_loader = torch.utils.data.DataLoader(dataset=valid, batch_size=batch_size, shuffle=False)\n",
    "test_loader = torch.utils.data.DataLoader(dataset=test, batch_size=batch_size, shuffle=False)\n"
   ]
  },
  {
   "cell_type": "markdown",
   "metadata": {},
   "source": [
    "### 3. 모델 정의 및 학습"
   ]
  },
  {
   "cell_type": "code",
   "execution_count": 15,
   "metadata": {},
   "outputs": [],
   "source": [
    "class CNNTimeSeries(nn.Module):\n",
    "    def __init__(self, num_features, num_classes):\n",
    "        super(CNNTimeSeries, self).__init__()\n",
    "        self.layer1 = nn.Sequential(\n",
    "            nn.Conv1d(in_channels=num_features, out_channels=64, kernel_size=3, padding=1),\n",
    "            nn.ReLU(),\n",
    "            nn.MaxPool1d(kernel_size=2)\n",
    "        )\n",
    "        self.layer2 = nn.Sequential(\n",
    "            nn.Conv1d(in_channels=64, out_channels=128, kernel_size=3, padding=1),\n",
    "            nn.ReLU(),\n",
    "            nn.MaxPool1d(kernel_size=2)\n",
    "        )\n",
    "        self.flatten = nn.Flatten()\n",
    "        self.fc1 = nn.Linear(128 * 5, 512)  # 여기서 128 * 5의 계산은 컨볼루션과 풀링 과정을 거친 데이터의 차원에 따라 다를 수 있습니다.\n",
    "        self.fc2 = nn.Linear(512, num_classes)\n",
    "        self.relu = nn.ReLU()\n",
    "        \n",
    "    def forward(self, x):\n",
    "        out = self.layer1(x)\n",
    "        out = self.layer2(out)\n",
    "        out = self.flatten(out)\n",
    "        out = self.fc1(out)\n",
    "        out = self.relu(out)\n",
    "        out = self.fc2(out)\n",
    "        return out\n"
   ]
  },
  {
   "cell_type": "code",
   "execution_count": 14,
   "metadata": {},
   "outputs": [
    {
     "name": "stdout",
     "output_type": "stream",
     "text": [
      "Epoch [1/100], Loss: 0.7093\n",
      "Epoch [2/100], Loss: 0.7067\n",
      "Epoch [3/100], Loss: 0.7080\n",
      "Epoch [4/100], Loss: 0.7085\n",
      "Epoch [5/100], Loss: 0.7100\n",
      "Epoch [6/100], Loss: 0.7277\n",
      "Epoch [7/100], Loss: 0.6650\n",
      "Epoch [8/100], Loss: 0.5779\n",
      "Epoch [9/100], Loss: 0.4200\n",
      "Epoch [10/100], Loss: 0.3242\n",
      "Epoch [11/100], Loss: 0.1785\n",
      "Epoch [12/100], Loss: 0.4191\n",
      "Epoch [13/100], Loss: 0.1515\n",
      "Epoch [14/100], Loss: 0.3688\n",
      "Epoch [15/100], Loss: 0.2063\n",
      "Epoch [16/100], Loss: 0.1481\n",
      "Epoch [17/100], Loss: 0.1262\n",
      "Epoch [18/100], Loss: 0.0795\n",
      "Epoch [19/100], Loss: 0.0786\n",
      "Epoch [20/100], Loss: 0.0755\n",
      "Epoch [21/100], Loss: 0.1151\n",
      "Epoch [22/100], Loss: 0.0607\n",
      "Epoch [23/100], Loss: 0.0653\n",
      "Epoch [24/100], Loss: 0.0293\n",
      "Epoch [25/100], Loss: 0.0121\n",
      "Epoch [26/100], Loss: 0.0091\n",
      "Epoch [27/100], Loss: 0.0068\n",
      "Epoch [28/100], Loss: 0.0056\n",
      "Epoch [29/100], Loss: 0.0048\n",
      "Epoch [30/100], Loss: 0.0041\n",
      "Epoch [31/100], Loss: 0.0035\n",
      "Epoch [32/100], Loss: 0.0030\n",
      "Epoch [33/100], Loss: 0.0027\n",
      "Epoch [34/100], Loss: 0.0024\n",
      "Epoch [35/100], Loss: 0.0021\n",
      "Epoch [36/100], Loss: 0.0019\n",
      "Epoch [37/100], Loss: 0.0017\n",
      "Epoch [38/100], Loss: 0.0015\n",
      "Epoch [39/100], Loss: 0.0013\n",
      "Epoch [40/100], Loss: 0.0012\n",
      "Epoch [41/100], Loss: 0.0011\n",
      "Epoch [42/100], Loss: 0.0010\n",
      "Epoch [43/100], Loss: 0.0009\n",
      "Epoch [44/100], Loss: 0.0008\n",
      "Epoch [45/100], Loss: 0.0008\n",
      "Epoch [46/100], Loss: 0.0007\n",
      "Epoch [47/100], Loss: 0.0007\n",
      "Epoch [48/100], Loss: 0.0006\n",
      "Epoch [49/100], Loss: 0.0006\n",
      "Epoch [50/100], Loss: 0.0005\n",
      "Epoch [51/100], Loss: 0.0005\n",
      "Epoch [52/100], Loss: 0.0005\n",
      "Epoch [53/100], Loss: 0.0004\n",
      "Epoch [54/100], Loss: 0.0004\n",
      "Epoch [55/100], Loss: 0.0004\n",
      "Epoch [56/100], Loss: 0.0004\n",
      "Epoch [57/100], Loss: 0.0003\n",
      "Epoch [58/100], Loss: 0.0003\n",
      "Epoch [59/100], Loss: 0.0003\n",
      "Epoch [60/100], Loss: 0.0003\n",
      "Epoch [61/100], Loss: 0.0003\n",
      "Epoch [62/100], Loss: 0.0003\n",
      "Epoch [63/100], Loss: 0.0002\n",
      "Epoch [64/100], Loss: 0.0002\n",
      "Epoch [65/100], Loss: 0.0002\n",
      "Epoch [66/100], Loss: 0.0002\n",
      "Epoch [67/100], Loss: 0.0002\n",
      "Epoch [68/100], Loss: 0.0002\n",
      "Epoch [69/100], Loss: 0.0002\n",
      "Epoch [70/100], Loss: 0.0002\n",
      "Epoch [71/100], Loss: 0.0002\n",
      "Epoch [72/100], Loss: 0.0002\n",
      "Epoch [73/100], Loss: 0.0002\n",
      "Epoch [74/100], Loss: 0.0001\n",
      "Epoch [75/100], Loss: 0.0001\n",
      "Epoch [76/100], Loss: 0.0001\n",
      "Epoch [77/100], Loss: 0.0001\n",
      "Epoch [78/100], Loss: 0.0001\n",
      "Epoch [79/100], Loss: 0.0001\n",
      "Epoch [80/100], Loss: 0.0001\n",
      "Epoch [81/100], Loss: 0.0001\n",
      "Epoch [82/100], Loss: 0.0001\n",
      "Epoch [83/100], Loss: 0.0001\n",
      "Epoch [84/100], Loss: 0.0001\n",
      "Epoch [85/100], Loss: 0.0001\n",
      "Epoch [86/100], Loss: 0.0001\n",
      "Epoch [87/100], Loss: 0.0001\n",
      "Epoch [88/100], Loss: 0.0001\n",
      "Epoch [89/100], Loss: 0.0001\n",
      "Epoch [90/100], Loss: 0.0001\n",
      "Epoch [91/100], Loss: 0.0001\n",
      "Epoch [92/100], Loss: 0.0001\n",
      "Epoch [93/100], Loss: 0.0001\n",
      "Epoch [94/100], Loss: 0.0001\n",
      "Epoch [95/100], Loss: 0.0001\n",
      "Epoch [96/100], Loss: 0.0001\n",
      "Epoch [97/100], Loss: 0.0001\n",
      "Epoch [98/100], Loss: 0.0001\n",
      "Epoch [99/100], Loss: 0.0001\n",
      "Epoch [100/100], Loss: 0.0001\n"
     ]
    }
   ],
   "source": [
    "# 모델 초기화\n",
    "model = CNNTimeSeries(num_features=77, num_classes=1).to(device)\n",
    "\n",
    "# 손실 함수 및 최적화\n",
    "criterion = nn.BCEWithLogitsLoss()\n",
    "optimizer = optim.Adam(model.parameters(), lr=0.001)\n",
    "\n",
    "# 학습 과정\n",
    "num_epochs = 100\n",
    "for epoch in range(num_epochs):\n",
    "    for inputs, targets in train_loader:\n",
    "        # 여기에서 inputs의 차원을 조정해야 할 수 있음\n",
    "        inputs = inputs.permute(0, 2, 1)  # [batch_size, seq_len, num_features] -> [batch_size, num_features, seq_len]\n",
    "        \n",
    "        # Forward pass\n",
    "        outputs = model(inputs)\n",
    "        loss = criterion(outputs, targets)\n",
    "        \n",
    "        # Backward and optimize\n",
    "        optimizer.zero_grad()\n",
    "        loss.backward()\n",
    "        optimizer.step()\n",
    "    \n",
    "    print(f'Epoch [{epoch+1}/{num_epochs}], Loss: {loss.item():.4f}')"
   ]
  },
  {
   "cell_type": "code",
   "execution_count": 43,
   "metadata": {},
   "outputs": [
    {
     "name": "stdout",
     "output_type": "stream",
     "text": [
      "Accuracy: 0.6901408450704225\n"
     ]
    }
   ],
   "source": [
    "from sklearn import metrics\n",
    "import torch\n",
    "\n",
    "# 테스트 데이터 로더(test_loader)에서 데이터를 반복\n",
    "all_preds = []\n",
    "all_targets = []\n",
    "\n",
    "model.eval()  # 모델을 평가 모드로 설정\n",
    "with torch.no_grad():  # 그라디언트 계산을 비활성화\n",
    "    for inputs, targets in test_loader:\n",
    "        # 데이터를 같은 디바이스로 이동\n",
    "        inputs = inputs.permute(0, 2, 1).to(device)  # X_test_seq.permute(0, 2, 1)와 동일한 차원 조정\n",
    "\n",
    "        # 모델 예측\n",
    "        outputs = torch.sigmoid(model(inputs))\n",
    "        preds = torch.round(outputs)\n",
    "        \n",
    "        # 예측 결과와 타겟을 CPU로 이동하고 NumPy 배열로 변환\n",
    "        preds = preds.cpu().detach().numpy()\n",
    "        targets = targets.cpu().detach().numpy()\n",
    "        \n",
    "        # 결과 저장\n",
    "        all_preds.extend(preds.flatten())\n",
    "        all_targets.extend(targets.flatten())\n",
    "\n",
    "# 전체 테스트 데이터셋에 대한 정확도 계산\n",
    "accuracy = metrics.accuracy_score(all_targets, all_preds)\n",
    "print(\"Accuracy:\", accuracy)\n"
   ]
  },
  {
   "cell_type": "code",
   "execution_count": 43,
   "metadata": {},
   "outputs": [
    {
     "name": "stdout",
     "output_type": "stream",
     "text": [
      "Test Loss: 0.2483\n"
     ]
    }
   ],
   "source": [
    "model.eval() # 모델을 평가 모드로 설정\n",
    "test_loss = 0\n",
    "with torch.no_grad(): # 기울기 계산을 비활성화하여 메모리 사용량을 줄이고 계산 속도를 높임\n",
    "    for inputs, targets in test_loader:\n",
    "        inputs = inputs.permute(0, 2, 1) # 차원 재정렬: [batch_size, num_features, seq_len]\n",
    "        outputs = model(inputs)\n",
    "        loss = criterion(outputs, targets)\n",
    "        test_loss += loss.item() * inputs.size(0) # 전체 손실 계산\n",
    "\n",
    "test_loss = test_loss / len(test_loader.dataset)  # 평균 손실 계산\n",
    "print(f'Test Loss: {test_loss:.4f}')"
   ]
  },
  {
   "cell_type": "code",
   "execution_count": 44,
   "metadata": {},
   "outputs": [],
   "source": [
    "from sklearn.metrics import accuracy_score, precision_score, recall_score, f1_score\n",
    "\n",
    "def binary_accuracy(outputs, targets):\n",
    "    \"\"\"\n",
    "    outputs: 모델의 예측값, 확률 또는 로짓 값으로 가정\n",
    "    targets: 실제 타깃 레이블\n",
    "    \"\"\"\n",
    "    predicted = outputs.round()  # 확률 값이 0.5 이상이면 1, 그렇지 않으면 0\n",
    "    accuracy = accuracy_score(targets, predicted)\n",
    "    precision = precision_score(targets, predicted)\n",
    "    recall = recall_score(targets, predicted)\n",
    "    f1 = f1_score(targets, predicted)\n",
    "    return accuracy, precision, recall, f1\n"
   ]
  },
  {
   "cell_type": "code",
   "execution_count": 50,
   "metadata": {},
   "outputs": [
    {
     "name": "stdout",
     "output_type": "stream",
     "text": [
      "Accuracy: 0.3451, Precision: 0.3478, Recall: 0.9412, F1 Score: 0.5079\n"
     ]
    },
    {
     "data": {
      "image/png": "[encoded data removed]",
      "text/plain": [
       "<Figure size 640x480 with 2 Axes>"
      ]
     },
     "metadata": {},
     "output_type": "display_data"
    }
   ],
   "source": [
    "model = model.to('cpu')\n",
    "\n",
    "model.eval()  # 모델을 평가 모드로 설정\n",
    "all_targets = []\n",
    "all_outputs = []\n",
    "\n",
    "with torch.no_grad():  # 기울기 계산을 비활성화\n",
    "    for inputs, targets in test_loader:\n",
    "        inputs = inputs.permute(0, 2, 1).to('cpu')  # 차원 재정렬 및 CPU로 이동: [batch_size, num_features, seq_len]\n",
    "        outputs = model(inputs)\n",
    "        outputs = torch.sigmoid(outputs)  # 로짓 값을 확률로 변환\n",
    "        all_targets.extend(targets.to('cpu').numpy())  # CPU로 이동 후 NumPy 배열로 변환\n",
    "        all_outputs.extend(outputs.to('cpu').numpy().round())  # CPU로 이동 후 NumPy 배열로 변환 및 반올림\n",
    "\n",
    "# 혼동 행렬 계산\n",
    "cm = confusion_matrix(all_targets, all_outputs)\n",
    "\n",
    "# 평가 지표 계산\n",
    "accuracy, precision, recall, f1 = binary_accuracy(np.array(all_outputs), np.array(all_targets))\n",
    "print(f'Accuracy: {accuracy:.4f}, Precision: {precision:.4f}, Recall: {recall:.4f}, F1 Score: {f1:.4f}')\n",
    "\n",
    "# 혼동 행렬 시각화\n",
    "sns.heatmap(cm, annot=True, fmt='d', cmap='Blues', xticklabels=['Negative', 'Positive'], yticklabels=['Negative', 'Positive'])\n",
    "plt.xlabel('Predicted labels')\n",
    "plt.ylabel('True labels')\n",
    "plt.title('Confusion Matrix')\n",
    "plt.show()\n"
   ]
  }
 ],
 "metadata": {
  "kernelspec": {
   "display_name": "Python 3",
   "language": "python",
   "name": "python3"
  },
  "language_info": {
   "codemirror_mode": {
    "name": "ipython",
    "version": 3
   },
   "file_extension": ".py",
   "mimetype": "text/x-python",
   "name": "python",
   "nbconvert_exporter": "python",
   "pygments_lexer": "ipython3",
   "version": "3.8.18"
  }
 },
 "nbformat": 4,
 "nbformat_minor": 2
}

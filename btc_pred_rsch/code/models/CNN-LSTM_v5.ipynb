{
 "cells": [
  {
   "cell_type": "markdown",
   "metadata": {},
   "source": [
    "### CNN-LSTM_v5\n",
    "\n",
    "- 파이썬 버전: 3.8.18\n",
    "- hyperparameter tunning용\n",
    "    - learning rate\n",
    "    - cnn hyperparameter"
   ]
  },
  {
   "cell_type": "markdown",
   "metadata": {},
   "source": [
    "### 1. Library 불러오기, SEED 설정, CUDA 사용"
   ]
  },
  {
   "cell_type": "code",
   "execution_count": 1,
   "metadata": {},
   "outputs": [
    {
     "name": "stdout",
     "output_type": "stream",
     "text": [
      "이 PC는 윈도우 운영 체제입니다. cuda:0 is available\n"
     ]
    }
   ],
   "source": [
    "# 필요 라이브러리 import\n",
    "\n",
    "# Pytorch\n",
    "import torch\n",
    "import torch.optim as optim\n",
    "import torch.nn as nn\n",
    "\n",
    "# Dataset 관련\n",
    "import numpy as np\n",
    "import pandas as pd\n",
    "from torch.utils.data import DataLoader, TensorDataset\n",
    "from sklearn.preprocessing import MinMaxScaler\n",
    "import sequence as sq # 사용자 정의 함수 불러오기\n",
    "\n",
    "# 성능 평가 관련\n",
    "from sklearn.metrics import precision_score, recall_score, f1_score, accuracy_score\n",
    "from sklearn.metrics import confusion_matrix\n",
    "from collections import Counter\n",
    "\n",
    "# Visualization 관련\n",
    "import matplotlib.pyplot as plt\n",
    "import seaborn as sns\n",
    "\n",
    "# 하이퍼파라미터 튜닝\n",
    "import optuna\n",
    "from optuna.pruners import MedianPruner\n",
    "from sklearn.model_selection import TimeSeriesSplit\n",
    "\n",
    "# 운영체제 관련\n",
    "import platform\n",
    "\n",
    "'''\n",
    "딥러닝 학습을 진행할 때, 가중치를 임의의 값으로 초기화하여 학습을 수행하는 데, \n",
    "실험을 동일하게 진행하기 위해서는 난수를 동일하게 생성해야 한다.\n",
    "Pytorch에서 random seed를 고정하기 위해 manual_seed를 사용한다.\n",
    "'''\n",
    "\n",
    "RANDOM_SEED = 42\n",
    "np.random.seed(RANDOM_SEED)\n",
    "torch.manual_seed(RANDOM_SEED)\n",
    "\n",
    "# 운영체제별 device 설정\n",
    "os_name = platform.system()\n",
    "if os_name == 'Windows':\n",
    "    device = torch.device(\"cuda:0\" if torch.cuda.is_available() else \"cpu\")\n",
    "    print(f\"이 PC는 윈도우 운영 체제입니다. {device} is available\")\n",
    "elif os_name == 'Darwin':\n",
    "    device = torch.device(\"mps\" if torch.backends.mps.is_available else \"cpu\")\n",
    "    print(f\"이 PC는 맥(OS X) 운영 체제입니다. {device} is available\")\n",
    "else:\n",
    "    print(f\"이 PC는 다른 운영 체제입니다: {os_name}\")\n"
   ]
  },
  {
   "cell_type": "markdown",
   "metadata": {},
   "source": [
    "### 2. 데이터 불러오기 및 전처리 (Binary, Scale, Tensor, train&valid&test split)"
   ]
  },
  {
   "cell_type": "code",
   "execution_count": 2,
   "metadata": {},
   "outputs": [],
   "source": [
    "import pickle\n",
    "\n",
    "# 불러오기\n",
    "file_path = '../../data/'\n",
    "seq_len = 20\n",
    "\n",
    "with open(f'{file_path}x_train_seq_{seq_len}.pkl', 'rb') as file:\n",
    "     X_train_seq= pickle.load(file)\n",
    "\n",
    "with open(f'{file_path}x_valid_seq_{seq_len}.pkl', 'rb') as file:\n",
    "     X_val_seq= pickle.load(file)\n",
    "\n",
    "with open(f'{file_path}X_test_seq_{seq_len}.pkl', 'rb') as file:\n",
    "     X_test_seq= pickle.load(file)\n",
    "\n",
    "with open(f'{file_path}y_train_seq_{seq_len}.pkl', 'rb') as file:\n",
    "     y_train_seq= pickle.load(file)\n",
    "\n",
    "with open(f'{file_path}y_valid_seq_{seq_len}.pkl', 'rb') as file:\n",
    "     y_val_seq= pickle.load(file)\n",
    "\n",
    "with open(f'{file_path}y_test_seq_{seq_len}.pkl', 'rb') as file:\n",
    "     y_test_seq= pickle.load(file)"
   ]
  },
  {
   "cell_type": "code",
   "execution_count": 3,
   "metadata": {},
   "outputs": [],
   "source": [
    "# Dataset과 DataLoader를 이용해 배치 데이터로 만든다.\n",
    "train = torch.utils.data.TensorDataset(X_train_seq, y_train_seq)\n",
    "valid = torch.utils.data.TensorDataset(X_val_seq, y_val_seq)\n",
    "test = torch.utils.data.TensorDataset(X_test_seq, y_test_seq)\n",
    "batch_size = 128 # 32, 64, 128\n",
    "train_loader =  torch.utils.data.DataLoader(dataset=train, batch_size=batch_size, shuffle=False, drop_last=True) # 시계열 데이터기에 shuffle X, 마지막 batch 버림\n",
    "valid_loader = torch.utils.data.DataLoader(dataset=valid, batch_size=batch_size, shuffle=False)\n",
    "test_loader = torch.utils.data.DataLoader(dataset=test, batch_size=batch_size, shuffle=False)\n"
   ]
  },
  {
   "cell_type": "markdown",
   "metadata": {},
   "source": [
    "### 3. 모델 정의"
   ]
  },
  {
   "cell_type": "code",
   "execution_count": 4,
   "metadata": {},
   "outputs": [],
   "source": [
    "# CNN-LSTM 모델 정의\n",
    "class CNNLSTMModel(nn.Module):\n",
    "    def __init__(self, input_size, hidden_size, num_layers, num_classes, cnn_out_channels1, cnn_out_channels2, kernel_size, stride, padding):\n",
    "        super(CNNLSTMModel, self).__init__()\n",
    "        self.cnn = nn.Sequential(\n",
    "            nn.Conv1d(in_channels=input_size, out_channels=cnn_out_channels1, kernel_size=kernel_size, stride=stride, padding=padding),\n",
    "            nn.ReLU(),\n",
    "            nn.MaxPool1d(kernel_size=2, stride=2),\n",
    "            nn.Conv1d(in_channels=cnn_out_channels1, out_channels=cnn_out_channels2, kernel_size=kernel_size, stride=stride, padding=padding),\n",
    "            nn.ReLU(),\n",
    "            nn.MaxPool1d(kernel_size=2, stride=2)\n",
    "        )\n",
    "        self.lstm = nn.LSTM(input_size=cnn_out_channels2, hidden_size=hidden_size, num_layers=num_layers, batch_first=True)\n",
    "        self.fc = nn.Linear(hidden_size, num_classes)\n",
    "        \n",
    "    def forward(self, x):\n",
    "        x = x.permute(0, 2, 1)\n",
    "        out = self.cnn(x)\n",
    "        out = out.permute(0, 2, 1)\n",
    "        out, _ = self.lstm(out)\n",
    "        out = self.fc(out[:, -1, :]) \n",
    "        return out"
   ]
  },
  {
   "cell_type": "code",
   "execution_count": 6,
   "metadata": {},
   "outputs": [
    {
     "name": "stderr",
     "output_type": "stream",
     "text": [
      "[I 2024-03-16 14:21:33,451] A new study created in memory with name: no-name-f1897025-de31-4fb8-bfec-0e042daf8b91\n",
      "[I 2024-03-16 14:22:12,461] Trial 0 finished with value: 0.6267713623485346 and parameters: {'cnn_out_channels1': 85, 'cnn_out_channels2': 145, 'kernel_size': 4, 'stride': 1, 'padding': 0}. Best is trial 0 with value: 0.6267713623485346.\n",
      "[I 2024-03-16 14:22:48,294] Trial 1 finished with value: 0.6146179016294151 and parameters: {'cnn_out_channels1': 120, 'cnn_out_channels2': 67, 'kernel_size': 2, 'stride': 2, 'padding': 0}. Best is trial 1 with value: 0.6146179016294151.\n",
      "[I 2024-03-16 14:23:23,900] Trial 2 finished with value: 0.6175922631532297 and parameters: {'cnn_out_channels1': 86, 'cnn_out_channels2': 99, 'kernel_size': 2, 'stride': 2, 'padding': 0}. Best is trial 1 with value: 0.6146179016294151.\n",
      "[I 2024-03-16 14:23:23,916] Trial 3 pruned. \n"
     ]
    },
    {
     "name": "stdout",
     "output_type": "stream",
     "text": [
      "오류 발생, 시도 제외: max_pool1d() Invalid computed output size: 0\n"
     ]
    },
    {
     "name": "stderr",
     "output_type": "stream",
     "text": [
      "[I 2024-03-16 14:24:00,310] Trial 4 finished with value: 0.48239637020675613 and parameters: {'cnn_out_channels1': 55, 'cnn_out_channels2': 81, 'kernel_size': 2, 'stride': 1, 'padding': 2}. Best is trial 4 with value: 0.48239637020675613.\n",
      "[I 2024-03-16 14:24:36,205] Trial 5 finished with value: 0.48967950234467955 and parameters: {'cnn_out_channels1': 38, 'cnn_out_channels2': 118, 'kernel_size': 2, 'stride': 2, 'padding': 2}. Best is trial 4 with value: 0.48239637020675613.\n",
      "[I 2024-03-16 14:24:36,222] Trial 6 pruned. \n"
     ]
    },
    {
     "name": "stdout",
     "output_type": "stream",
     "text": [
      "오류 발생, 시도 제외: max_pool1d() Invalid computed output size: 0\n"
     ]
    },
    {
     "name": "stderr",
     "output_type": "stream",
     "text": [
      "[I 2024-03-16 14:25:13,550] Trial 7 finished with value: 0.49223095504031783 and parameters: {'cnn_out_channels1': 118, 'cnn_out_channels2': 181, 'kernel_size': 2, 'stride': 2, 'padding': 2}. Best is trial 4 with value: 0.48239637020675613.\n",
      "[I 2024-03-16 14:25:13,550] Trial 8 pruned. \n"
     ]
    },
    {
     "name": "stdout",
     "output_type": "stream",
     "text": [
      "오류 발생, 시도 제외: max_pool1d() Invalid computed output size: 0\n"
     ]
    },
    {
     "name": "stderr",
     "output_type": "stream",
     "text": [
      "[I 2024-03-16 14:25:51,962] Trial 9 finished with value: 0.5032800317838274 and parameters: {'cnn_out_channels1': 87, 'cnn_out_channels2': 169, 'kernel_size': 3, 'stride': 1, 'padding': 1}. Best is trial 4 with value: 0.48239637020675613.\n",
      "[I 2024-03-16 14:26:29,057] Trial 10 finished with value: 0.5159383948849535 and parameters: {'cnn_out_channels1': 61, 'cnn_out_channels2': 126, 'kernel_size': 4, 'stride': 1, 'padding': 1}. Best is trial 4 with value: 0.48239637020675613.\n",
      "[I 2024-03-16 14:27:05,454] Trial 11 finished with value: 0.4807070178547125 and parameters: {'cnn_out_channels1': 33, 'cnn_out_channels2': 119, 'kernel_size': 2, 'stride': 1, 'padding': 2}. Best is trial 11 with value: 0.4807070178547125.\n",
      "[I 2024-03-16 14:27:44,126] Trial 12 finished with value: 0.4813128314141569 and parameters: {'cnn_out_channels1': 57, 'cnn_out_channels2': 250, 'kernel_size': 2, 'stride': 1, 'padding': 2}. Best is trial 11 with value: 0.4807070178547125.\n",
      "[I 2024-03-16 14:28:25,359] Trial 13 finished with value: 0.48153717815876007 and parameters: {'cnn_out_channels1': 67, 'cnn_out_channels2': 247, 'kernel_size': 2, 'stride': 1, 'padding': 2}. Best is trial 11 with value: 0.4807070178547125.\n",
      "[I 2024-03-16 14:29:02,189] Trial 14 finished with value: 0.509915727137149 and parameters: {'cnn_out_channels1': 33, 'cnn_out_channels2': 249, 'kernel_size': 2, 'stride': 1, 'padding': 1}. Best is trial 11 with value: 0.4807070178547125.\n",
      "[I 2024-03-16 14:29:41,769] Trial 15 finished with value: 0.49604337003039217 and parameters: {'cnn_out_channels1': 70, 'cnn_out_channels2': 200, 'kernel_size': 3, 'stride': 1, 'padding': 2}. Best is trial 11 with value: 0.4807070178547125.\n",
      "[I 2024-03-16 14:30:19,147] Trial 16 finished with value: 0.4831727671212164 and parameters: {'cnn_out_channels1': 47, 'cnn_out_channels2': 142, 'kernel_size': 2, 'stride': 1, 'padding': 2}. Best is trial 11 with value: 0.4807070178547125.\n",
      "[I 2024-03-16 14:30:56,906] Trial 17 finished with value: 0.5201743695585207 and parameters: {'cnn_out_channels1': 43, 'cnn_out_channels2': 231, 'kernel_size': 4, 'stride': 1, 'padding': 1}. Best is trial 11 with value: 0.4807070178547125.\n",
      "[I 2024-03-16 14:31:35,218] Trial 18 finished with value: 0.48582986288372126 and parameters: {'cnn_out_channels1': 32, 'cnn_out_channels2': 198, 'kernel_size': 3, 'stride': 1, 'padding': 2}. Best is trial 11 with value: 0.4807070178547125.\n",
      "[I 2024-03-16 14:32:11,713] Trial 19 finished with value: 0.5090630936554108 and parameters: {'cnn_out_channels1': 54, 'cnn_out_channels2': 113, 'kernel_size': 2, 'stride': 1, 'padding': 1}. Best is trial 11 with value: 0.4807070178547125.\n",
      "[I 2024-03-16 14:32:50,491] Trial 20 finished with value: 0.49878951975668984 and parameters: {'cnn_out_channels1': 71, 'cnn_out_channels2': 156, 'kernel_size': 3, 'stride': 1, 'padding': 2}. Best is trial 11 with value: 0.4807070178547125.\n",
      "[I 2024-03-16 14:33:29,846] Trial 21 finished with value: 0.4839674145325847 and parameters: {'cnn_out_channels1': 63, 'cnn_out_channels2': 256, 'kernel_size': 2, 'stride': 1, 'padding': 2}. Best is trial 11 with value: 0.4807070178547125.\n",
      "[I 2024-03-16 14:34:09,349] Trial 22 finished with value: 0.48232365151246387 and parameters: {'cnn_out_channels1': 70, 'cnn_out_channels2': 229, 'kernel_size': 2, 'stride': 1, 'padding': 2}. Best is trial 11 with value: 0.4807070178547125.\n",
      "[I 2024-03-16 14:34:48,812] Trial 23 finished with value: 0.48209307830909204 and parameters: {'cnn_out_channels1': 77, 'cnn_out_channels2': 239, 'kernel_size': 2, 'stride': 1, 'padding': 2}. Best is trial 11 with value: 0.4807070178547125.\n",
      "[I 2024-03-16 14:35:27,541] Trial 24 finished with value: 0.48109391194650497 and parameters: {'cnn_out_channels1': 54, 'cnn_out_channels2': 217, 'kernel_size': 2, 'stride': 1, 'padding': 2}. Best is trial 11 with value: 0.4807070178547125.\n",
      "[I 2024-03-16 14:36:05,169] Trial 25 finished with value: 0.5050959330180596 and parameters: {'cnn_out_channels1': 52, 'cnn_out_channels2': 220, 'kernel_size': 2, 'stride': 1, 'padding': 1}. Best is trial 11 with value: 0.4807070178547125.\n",
      "[I 2024-03-16 14:36:43,298] Trial 26 finished with value: 0.4790672103221389 and parameters: {'cnn_out_channels1': 39, 'cnn_out_channels2': 192, 'kernel_size': 2, 'stride': 1, 'padding': 2}. Best is trial 26 with value: 0.4790672103221389.\n",
      "[I 2024-03-16 14:37:20,444] Trial 27 finished with value: 0.49343597323730076 and parameters: {'cnn_out_channels1': 40, 'cnn_out_channels2': 185, 'kernel_size': 3, 'stride': 1, 'padding': 1}. Best is trial 26 with value: 0.4790672103221389.\n",
      "[I 2024-03-16 14:37:58,637] Trial 28 finished with value: 0.47982500904592973 and parameters: {'cnn_out_channels1': 38, 'cnn_out_channels2': 205, 'kernel_size': 2, 'stride': 1, 'padding': 2}. Best is trial 26 with value: 0.4790672103221389.\n",
      "[I 2024-03-16 14:38:35,481] Trial 29 finished with value: 0.4945794880047612 and parameters: {'cnn_out_channels1': 37, 'cnn_out_channels2': 138, 'kernel_size': 4, 'stride': 1, 'padding': 2}. Best is trial 26 with value: 0.4790672103221389.\n"
     ]
    },
    {
     "name": "stdout",
     "output_type": "stream",
     "text": [
      "최적의 파라미터:  {'cnn_out_channels1': 39, 'cnn_out_channels2': 192, 'kernel_size': 2, 'stride': 1, 'padding': 2}\n"
     ]
    }
   ],
   "source": [
    "import optuna\n",
    "from optuna.exceptions import TrialPruned\n",
    "\n",
    "def objective(trial):\n",
    "    # CNN 파라미터 설정을 위한 탐색 공간 정의\n",
    "    cnn_out_channels1 = trial.suggest_int('cnn_out_channels1', 32, 128)\n",
    "    cnn_out_channels2 = trial.suggest_int('cnn_out_channels2', 64, 256)\n",
    "    kernel_size = trial.suggest_int('kernel_size', 2, 4)\n",
    "    stride = trial.suggest_int('stride', 1, 2)\n",
    "    padding = trial.suggest_int('padding', 0, 2)\n",
    "\n",
    "    try:\n",
    "        # 모델 초기화\n",
    "        model = CNNLSTMModel(input_size=77, hidden_size=128, num_layers=2, num_classes=1, \n",
    "                             cnn_out_channels1=cnn_out_channels1, cnn_out_channels2=cnn_out_channels2, \n",
    "                             kernel_size=kernel_size, stride=stride, padding=padding)\n",
    "        model.to(device)\n",
    "\n",
    "        # 손실 함수와 옵티마이저 설정\n",
    "        criterion = nn.BCEWithLogitsLoss()\n",
    "        optimizer = optim.Adam(model.parameters(), lr=0.0001)\n",
    "\n",
    "        # 모델 학습\n",
    "        model.train()\n",
    "        for epoch in range(20):  # 여러 에포크로 학습을 진행할 수 있음\n",
    "            epoch_loss = 0.0\n",
    "            for batch_idx, (data, target) in enumerate(train_loader):\n",
    "                data, target = data.to(device), target.to(device)\n",
    "                optimizer.zero_grad()\n",
    "                output = model(data)\n",
    "                loss = criterion(output, target)\n",
    "                loss.backward()\n",
    "                optimizer.step()\n",
    "                epoch_loss += loss.item()\n",
    "            epoch_loss /= len(train_loader)\n",
    "\n",
    "        # 검증 손실 계산\n",
    "        model.eval()\n",
    "        val_loss = 0.0\n",
    "        with torch.no_grad():\n",
    "            for data, target in valid_loader:\n",
    "                data, target = data.to(device), target.to(device)\n",
    "                output = model(data)\n",
    "                loss = criterion(output, target)\n",
    "                val_loss += loss.item()\n",
    "        val_loss /= len(valid_loader)\n",
    "\n",
    "        return val_loss\n",
    "    except RuntimeError as e:\n",
    "        # 여기서 특정 오류 메시지를 확인하고, 해당하는 경우 TrialPruned 예외를 발생시키도록 조건을 추가할 수 있음\n",
    "        print(f\"오류 발생, 시도 제외: {e}\")\n",
    "        raise TrialPruned()  # 현재 시도를 조기 중단하고 다음 시도로 넘어감\n",
    "\n",
    "# Optuna 스터디 생성 및 최적화 실행\n",
    "study = optuna.create_study(direction='minimize', pruner=optuna.pruners.MedianPruner())\n",
    "study.optimize(objective, n_trials=30)\n",
    "\n",
    "print(\"최적의 파라미터: \", study.best_params)\n"
   ]
  },
  {
   "cell_type": "code",
   "execution_count": 21,
   "metadata": {},
   "outputs": [
    {
     "name": "stdout",
     "output_type": "stream",
     "text": [
      "Epoch 1, Validation Loss: 0.6917207497974922\n",
      "Epoch 2, Validation Loss: 0.5343600535529783\n",
      "Epoch 3, Validation Loss: 0.5048080376167406\n",
      "Epoch 4, Validation Loss: 0.495839209392153\n",
      "Epoch 5, Validation Loss: 0.4916123567984022\n",
      "Epoch 6, Validation Loss: 0.489208966836162\n",
      "Epoch 7, Validation Loss: 0.48841029936554786\n",
      "Epoch 8, Validation Loss: 0.4882180755850912\n",
      "Epoch 9, Validation Loss: 0.48795539397617865\n",
      "Epoch 10, Validation Loss: 0.48775193711806986\n",
      "Epoch 11, Validation Loss: 0.487569612504422\n",
      "Epoch 12, Validation Loss: 0.48742531325625277\n",
      "Test Loss: 0.47982340914079513\n"
     ]
    }
   ],
   "source": [
    "import torch\n",
    "from sklearn.model_selection import train_test_split\n",
    "from sklearn.metrics import accuracy_score\n",
    "\n",
    "# 최적의 파라미터 로드 (Optuna 스터디 결과로부터 얻은 최적의 파라미터를 사용)\n",
    "best_params = study.best_params\n",
    "# 모델 정의\n",
    "model = CNNLSTMModel(input_size=77, hidden_size=1024, num_layers=4, num_classes=1, \n",
    "                     cnn_out_channels1=best_params['cnn_out_channels1'], \n",
    "                     cnn_out_channels2=best_params['cnn_out_channels2'],\n",
    "                     kernel_size=best_params['kernel_size'], \n",
    "                     stride=best_params['stride'], \n",
    "                     padding=best_params['padding']).to(device)\n",
    "\n",
    "# 손실 함수와 옵티마이저\n",
    "criterion = nn.BCEWithLogitsLoss()\n",
    "optimizer = optim.Adam(model.parameters(), lr=0.0001)\n",
    "\n",
    "# 데이터 로더 생성\n",
    "batch_size = 128\n",
    "train_loader = DataLoader(dataset=train, batch_size=batch_size, shuffle=False, drop_last=True)\n",
    "valid_loader = DataLoader(dataset=valid, batch_size=batch_size, shuffle=False)\n",
    "test_loader = DataLoader(dataset=test, batch_size=batch_size, shuffle=False)\n",
    "\n",
    "# 모델 학습\n",
    "def train_model(model, train_loader, valid_loader, criterion, optimizer, epochs=12):\n",
    "    for epoch in range(epochs):\n",
    "        model.train()\n",
    "        for X_batch, y_batch in train_loader:\n",
    "            X_batch, y_batch = X_batch.to(device), y_batch.to(device)\n",
    "            optimizer.zero_grad()\n",
    "            outputs = model(X_batch)\n",
    "            loss = criterion(outputs, y_batch)\n",
    "            loss.backward()\n",
    "            optimizer.step()\n",
    "        \n",
    "        # 검증 데이터에 대한 성능 평가\n",
    "        model.eval()\n",
    "        with torch.no_grad():\n",
    "            valid_loss = 0\n",
    "            for X_batch, y_batch in valid_loader:\n",
    "                X_batch, y_batch = X_batch.to(device), y_batch.to(device)\n",
    "                outputs = model(X_batch)\n",
    "                loss = criterion(outputs, y_batch)\n",
    "                valid_loss += loss.item()\n",
    "        print(f'Epoch {epoch+1}, Validation Loss: {valid_loss / len(valid_loader)}')\n",
    "\n",
    "# 모델 학습 실행\n",
    "train_model(model, train_loader, valid_loader, criterion, optimizer)\n",
    "\n",
    "# 테스트 데이터에 대한 성능 평가\n",
    "def evaluate_model(model, test_loader):\n",
    "    model.eval()\n",
    "    with torch.no_grad():\n",
    "        test_loss = 0\n",
    "        for X_batch, y_batch in test_loader:\n",
    "            X_batch, y_batch = X_batch.to(device), y_batch.to(device)\n",
    "            outputs = model(X_batch)\n",
    "            loss = criterion(outputs, y_batch)\n",
    "            test_loss += loss.item()\n",
    "    print(f'Test Loss: {test_loss / len(test_loader)}')\n",
    "\n",
    "# 테스트 데이터 평가 실행\n",
    "evaluate_model(model, test_loader)\n"
   ]
  },
  {
   "cell_type": "code",
   "execution_count": 22,
   "metadata": {},
   "outputs": [
    {
     "data": {
      "image/png": "[encoded data removed]",
      "text/plain": [
       "<Figure size 500x500 with 2 Axes>"
      ]
     },
     "metadata": {},
     "output_type": "display_data"
    },
    {
     "name": "stdout",
     "output_type": "stream",
     "text": [
      "Accuracy: 0.7747\n",
      "Precision: 0.7891\n",
      "Recall: 0.7366\n",
      "F1 Score: 0.7619\n"
     ]
    }
   ],
   "source": [
    "from sklearn.metrics import accuracy_score, precision_score, recall_score, f1_score, confusion_matrix\n",
    "\n",
    "# 모델을 평가하고 성능 지표를 출력하는 함수\n",
    "def evaluate_model_performance(model, test_loader):\n",
    "    model.eval()\n",
    "    all_predictions = []\n",
    "    all_targets = []\n",
    "\n",
    "    with torch.no_grad():\n",
    "        for X_batch, y_batch in test_loader:\n",
    "            X_batch = X_batch.to(device)\n",
    "            outputs = model(X_batch)\n",
    "            # 예측 결과를 CPU로 이동시키고, 클래스를 결정하기 위해 임계값 0.5 적용\n",
    "            predictions = (torch.sigmoid(outputs) > 0.5).int().cpu().numpy()\n",
    "            all_predictions.extend(predictions.flatten())\n",
    "            all_targets.extend(y_batch.cpu().numpy())\n",
    "\n",
    "def plot_confusion_matrix(model, test_loader):\n",
    "    model.eval()\n",
    "    all_predictions = []\n",
    "    all_targets = []\n",
    "\n",
    "    with torch.no_grad():\n",
    "        for X_batch, y_batch in test_loader:\n",
    "            X_batch = X_batch.to(device)\n",
    "            outputs = model(X_batch)\n",
    "            predictions = (torch.sigmoid(outputs) > 0.5).int().cpu().numpy()\n",
    "            all_predictions.extend(predictions.flatten())\n",
    "            all_targets.extend(y_batch.cpu().numpy())\n",
    "\n",
    "    # 혼동 행렬 계산\n",
    "    conf_matrix = confusion_matrix(all_targets, all_predictions)\n",
    "\n",
    "    # 혼동 행렬 시각화\n",
    "    fig, ax = plt.subplots(figsize=(5, 5))\n",
    "    sns.heatmap(conf_matrix, annot=True, fmt='d', cmap='Blues', square=True,\n",
    "                xticklabels=['Negative', 'Positive'], yticklabels=['Negative', 'Positive'])\n",
    "    plt.ylabel('Actual')\n",
    "    plt.xlabel('Predicted')\n",
    "    plt.title('Confusion Matrix')\n",
    "    plt.show()\n",
    "\n",
    "    # 성능 지표 계산\n",
    "    accuracy = accuracy_score(all_targets, all_predictions)\n",
    "    precision = precision_score(all_targets, all_predictions)\n",
    "    recall = recall_score(all_targets, all_predictions)\n",
    "    f1 = f1_score(all_targets, all_predictions)\n",
    "    conf_matrix = confusion_matrix(all_targets, all_predictions)\n",
    "\n",
    "    print(f'Accuracy: {accuracy.round(4)}')\n",
    "    print(f'Precision: {precision.round(4)}')\n",
    "    print(f'Recall: {recall.round(4)}')\n",
    "    print(f'F1 Score: {f1.round(4)}')\n",
    "\n",
    "# 모델 성능 평가 실행\n",
    "evaluate_model_performance(model, test_loader)\n",
    "# 혼동 행렬 그리기\n",
    "plot_confusion_matrix(model, test_loader)\n"
   ]
  },
  {
   "cell_type": "code",
   "execution_count": null,
   "metadata": {},
   "outputs": [],
   "source": []
  }
 ],
 "metadata": {
  "kernelspec": {
   "display_name": "Python 3",
   "language": "python",
   "name": "python3"
  },
  "language_info": {
   "codemirror_mode": {
    "name": "ipython",
    "version": 3
   },
   "file_extension": ".py",
   "mimetype": "text/x-python",
   "name": "python",
   "nbconvert_exporter": "python",
   "pygments_lexer": "ipython3",
   "version": "3.11.4"
  }
 },
 "nbformat": 4,
 "nbformat_minor": 2
}
